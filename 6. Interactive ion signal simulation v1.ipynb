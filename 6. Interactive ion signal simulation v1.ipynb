{
 "cells": [
  {
   "cell_type": "markdown",
   "metadata": {},
   "source": [
    "### Import potentials and coordinates from HDF5 file"
   ]
  },
  {
   "cell_type": "code",
   "execution_count": 1,
   "metadata": {
    "collapsed": false
   },
   "outputs": [],
   "source": [
    "import h5py\n",
    "import numpy as np\n",
    "import pandas as pd\n",
    "from scipy.interpolate import RegularGridInterpolator as rgi\n",
    "import matplotlib.pyplot as plt\n",
    "from mpl_toolkits.mplot3d import axes3d\n",
    "import time\n",
    "from numba import jit"
   ]
  },
  {
   "cell_type": "code",
   "execution_count": 2,
   "metadata": {
    "collapsed": false
   },
   "outputs": [],
   "source": [
    "#Potential field are stored in a HDF5 file\n",
    "f=h5py.File('PA_v4.hdf5','r')"
   ]
  },
  {
   "cell_type": "code",
   "execution_count": 3,
   "metadata": {
    "collapsed": false
   },
   "outputs": [],
   "source": [
    "#coordinates x,y,z in unit of mm\n",
    "x=f[\"Coordinates/X\"].value/2.\n",
    "y=f[\"Coordinates/Y\"].value/2.\n",
    "z=f[\"Coordinates/Z\"].value/2."
   ]
  },
  {
   "cell_type": "markdown",
   "metadata": {},
   "source": [
    "### Set electrodes potentials and calculate spatial potential values\n",
    "19 electrodes are set to certain potentials to create electric field to ionize Rydberg atoms"
   ]
  },
  {
   "cell_type": "code",
   "execution_count": 4,
   "metadata": {
    "collapsed": false
   },
   "outputs": [],
   "source": [
    "#set values of 19 electrodes, for ionization field of state n=30\n",
    "#electrode_set_potentials=[187.*1.2,187.*1.2,-1.74,-278.*1.2,-0.114*1.2,-1900.,0.,3.97*1.2,-1.74*1.2,-278.*1.2,187.*1.2,187.*1.2,0.3*1.2,-278.*1.2,0.,0.,0.,0.318*1.2,0.307*1.2];\n",
    "electrode_set_potentials=[195.,195.,-145.,-232.,-0.114,-1900.,0.,4.,0.3,-232.,195.,195.,-145.,-232.,0.,0.,0.,0.318,0.307];"
   ]
  },
  {
   "cell_type": "code",
   "execution_count": 5,
   "metadata": {
    "collapsed": false
   },
   "outputs": [],
   "source": [
    "# generate potential by setting each electrode to its potential and adding up all electrodes' potential\n",
    "potentials=np.zeros((len(x),len(y),len(z)))\n",
    "for i in range(19):\n",
    "    electroden=f[\"Potential Arrays/electrode\"+str(i+1)].value\n",
    "    potentials+=electrode_set_potentials[i]*electroden/10000."
   ]
  },
  {
   "cell_type": "markdown",
   "metadata": {},
   "source": [
    "### Interpolate potential arrays and plot cross sections for comparison"
   ]
  },
  {
   "cell_type": "code",
   "execution_count": 6,
   "metadata": {
    "collapsed": false
   },
   "outputs": [],
   "source": [
    "#generate potential interpolation\n",
    "\n",
    "from scipy.interpolate import RegularGridInterpolator as rgi\n",
    "p_interpolation=rgi((x,y,z),potentials)"
   ]
  },
  {
   "cell_type": "markdown",
   "metadata": {},
   "source": [
    "### Calculate single ion trajectory"
   ]
  },
  {
   "cell_type": "markdown",
   "metadata": {},
   "source": [
    "Define velocity iteration function and trajectory iteration function for single ion."
   ]
  },
  {
   "cell_type": "markdown",
   "metadata": {},
   "source": [
    "MCP detector plane"
   ]
  },
  {
   "cell_type": "code",
   "execution_count": 12,
   "metadata": {
    "collapsed": false
   },
   "outputs": [
    {
     "data": {
      "text/plain": [
       "(array([ 126.47080421,  102.5       ,  107.4175193 ]), 1007.3040503174313)"
      ]
     },
     "execution_count": 12,
     "metadata": {},
     "output_type": "execute_result"
    }
   ],
   "source": [
    "phi=-82.*np.pi/180.\n",
    "tmatrix=np.array([[np.cos(phi),0,-np.sin(phi)],\n",
    "           [0,1,0],\n",
    "           [np.sin(phi),0,np.cos(phi)]])\n",
    "\n",
    "#center point of MCP plane\n",
    "center=(tmatrix.dot(np.array([0.,0.,3.]))*2 + [247,205,214])/2\n",
    "#c=(241+6*np.cos(phi) + np.tan(- phi)*(247 + 6*np.sin( - phi)))/2.\n",
    "c=center[2] + np.tan(- phi)* center[0]\n",
    "center, c"
   ]
  },
  {
   "cell_type": "code",
   "execution_count": 13,
   "metadata": {
    "collapsed": false
   },
   "outputs": [],
   "source": [
    "#single ion's position and velocity iteration functions\n",
    "\n",
    "@jit\n",
    "def R(ri,vi,dt):                  #delta_t in unit of micro-second, displacement in unit of mm, v in unit of mm/us\n",
    "    x_new=ri[0]+vi[0]*dt\n",
    "    y_new=ri[1]+vi[1]*dt\n",
    "    z_new=ri[2]+vi[2]*dt\n",
    "    return np.array([x_new,y_new,z_new])\n",
    "\n",
    "@jit\n",
    "def Gradientforce(ri,vi,delta_t,dr):\n",
    "    dvx=-100./(1.0364*87.) * (p_interpolation([ri[0]+dr,ri[1],ri[2]])[0]-p_interpolation([ri[0]-dr,ri[1],ri[2]])[0])/(dr*2) #- for positive ions, + for electrons\n",
    "    dvy=-100./(1.0364*87.) * (p_interpolation([ri[0],ri[1]+dr,ri[2]])[0]-p_interpolation([ri[0],ri[1]-dr,ri[2]])[0])/(dr*2)\n",
    "    dvz=-100./(1.0364*87.) * (p_interpolation([ri[0],ri[1],ri[2]+dr])[0]-p_interpolation([ri[0],ri[1],ri[2]-dr])[0])/(dr*2)\n",
    "    vx_new=vi[0]+dvx * dt\n",
    "    vy_new=vi[1]+dvy * dt\n",
    "    vz_new=vi[2]+dvz * dt\n",
    "    return np.array([vx_new,vy_new,vz_new])\n",
    "\n",
    "@jit\n",
    "def ion_exist(r):\n",
    "    ion_number=len(r)\n",
    "    ion_condition=[0 for i in range(ion_number)]\n",
    "    for j in range(ion_number):\n",
    "        r_ionj=r[j]\n",
    "        ion_condition[j]=(r_ionj>[x[1],y[1],z[1]]).all() and (r_ionj<[x[-2],y[-2],z[-2]]).all() and (r_ionj[2]-np.tan(phi)*r_ionj[0]<=c)\n",
    "        \n",
    "    return ion_condition\n",
    "\n",
    "\"\"\"\n",
    "#Function to calculate two ions coulombic force\n",
    "def VCoul(ra,rb):\n",
    "    #coulombic acceleration of Rb ion at ra, due to repulsion of Rb ion at rb\n",
    "    distance=np.linalg.norm(ra-rb)\n",
    "    coulf=1.595 * 1.e-6 /distance**2\n",
    "    return (ra-rb)*coulf/distance\n",
    "\"\"\"\n",
    "    \n",
    "@jit\n",
    "def VCoul(index,r_iter,ion_condition):\n",
    "    r_origin=r_iter[index]\n",
    "    ion_number=len(r_iter)\n",
    "    force=np.zeros((1,3))\n",
    "    for i in range(ion_number):\n",
    "        if (i!=index and ion_condition[i]):\n",
    "            distance=np.linalg.norm(r_origin - r_iter[i])\n",
    "            coulf=1.595 * 1.e-6 / distance**2\n",
    "            force += (r_origin - r_iter[i]) * coulf/distance\n",
    "    return force[0]\n",
    "    \n",
    "    \n",
    "@jit\n",
    "def cross_ratio(r_n,r_iter,count,dt):\n",
    "    x1=r_n[0]\n",
    "    z1=r_n[2]\n",
    "    x2=r_iter[0]\n",
    "    z2=r_iter[2]\n",
    "    a=np.array([[np.tan(-phi),1.],[(z2-z1)/(x1-x2),1]])\n",
    "    b=np.array([c,(x1*z2-x2*z1)/(x1-x2)])\n",
    "    \n",
    "    r_p= np.linalg.solve(a,b)\n",
    "    ratio=(r_p[0]-r_n[0])/(r_iter[0]-r_n[0])\n",
    "    count += ratio\n",
    "    y_p= r_n[1] +(r_iter[1]-r_n[1])*ratio\n",
    "    t=count*dt\n",
    "    r_new= np.array([np.sign(r_p[1]-center[2]) * np.sqrt((r_p[0]-center[0])**2 + (r_p[1]-center[2])**2),y_p-center[1],t])\n",
    "    return r_new\n"
   ]
  },
  {
   "cell_type": "code",
   "execution_count": 14,
   "metadata": {
    "collapsed": true
   },
   "outputs": [],
   "source": [
    "@jit\n",
    "def trajectory2(r_init,v_init,dt):\n",
    "    r_iter=r_init\n",
    "    v_iter=v_init \n",
    "    r_n=r_init\n",
    "    count=0              #no appending?\n",
    "    while (r_iter>[x[1],y[1],z[1]]).all() and (r_iter<[x[-2],y[-2],z[-2]]).all() and (r_iter[2]-np.tan(phi)*r_iter[0]<=c):\n",
    "        # while loop condition: ion still in effective volume, and not hit the plane\n",
    "        r_n=r_iter\n",
    "        v_iter=Gradientforce(r_iter,v_iter,dt,dr)\n",
    "        r_iter=R(r_iter,v_iter,dt)\n",
    "        count+=1\n",
    "        if count*dt>20:\n",
    "            break\n",
    "        \n",
    "    x1=r_n[0]\n",
    "    z1=r_n[2]\n",
    "    x2=r_iter[0]\n",
    "    z2=r_iter[2]\n",
    "    a=np.array([[np.tan(-phi),1.],[(z2-z1)/(x1-x2),1]])\n",
    "    b=np.array([c,(x1*z2-x2*z1)/(x1-x2)])\n",
    "    \n",
    "    r_p= np.linalg.solve(a,b)\n",
    "    v=v_iter\n",
    "    ratio=(r_iter[0]-r_p[0])/(r_iter[0]-r_n[0])\n",
    "    count += ratio\n",
    "    y_p= r_n[1] +(r_iter[1]-r_n[1])*ratio\n",
    "    t=count*dt\n",
    "    r_new= [np.sign(r_p[1]-center[2]) * np.sqrt((r_p[0]-center[0])**2 + (r_p[1]-center[2])**2),y_p-center[1],t]\n",
    "    \n",
    "    return [r_new,v]"
   ]
  },
  {
   "cell_type": "code",
   "execution_count": null,
   "metadata": {
    "collapsed": true
   },
   "outputs": [],
   "source": [
    "ion_ex"
   ]
  },
  {
   "cell_type": "markdown",
   "metadata": {},
   "source": [
    "Test ion_exist() and VCoul() functions"
   ]
  },
  {
   "cell_type": "markdown",
   "metadata": {},
   "source": [
    "**Distance step when calculating gradient has significant fluence on the trajectories**"
   ]
  },
  {
   "cell_type": "code",
   "execution_count": 12,
   "metadata": {
    "collapsed": false,
    "scrolled": true
   },
   "outputs": [],
   "source": [
    "dr=0.5       #dr[mm] is used when calculating gradients\n",
    "dt=0.01     #dt[us]"
   ]
  },
  {
   "cell_type": "code",
   "execution_count": 13,
   "metadata": {
    "collapsed": false
   },
   "outputs": [
    {
     "ename": "SyntaxError",
     "evalue": "Missing parentheses in call to 'print' (<ipython-input-13-91de78c87071>, line 41)",
     "output_type": "error",
     "traceback": [
      "\u001b[0;36m  File \u001b[0;32m\"<ipython-input-13-91de78c87071>\"\u001b[0;36m, line \u001b[0;32m41\u001b[0m\n\u001b[0;31m    print r_final\u001b[0m\n\u001b[0m                ^\u001b[0m\n\u001b[0;31mSyntaxError\u001b[0m\u001b[0;31m:\u001b[0m Missing parentheses in call to 'print'\n"
     ]
    }
   ],
   "source": [
    "@jit\n",
    "def trajectories_ions(r_init,v_init,dt):\n",
    "    ion_number=len(r_init)\n",
    "    count=np.zeros(ion_number)\n",
    "    r_iter=np.zeros((ion_number,3))\n",
    "    r_n=np.zeros((ion_number,3))\n",
    "    r_iter=r_init\n",
    "    v_iter=v_init\n",
    "    r_n=np.zeros((ion_number,3))\n",
    "    \n",
    "    #no appending?\n",
    "    global condition\n",
    "    condition = ion_exist(r_iter)\n",
    "    while any(condition):\n",
    "        # while loop condition: ion still in effective volume, and not hit the plane\n",
    "        \"\"\"if iondistance<0.01:\n",
    "            dt=0.0001\n",
    "        else:\n",
    "            dt=0.01\"\"\"\n",
    "        for i in range(ion_number):\n",
    "            if condition[i]:\n",
    "                r_n[i]=np.array(r_iter[i])\n",
    "                v_iter[i]=Gradientforce(np.array(r_iter[i]),np.array(v_iter[i]),dt,dr) + VCoul(i,r_iter,condition) * dt\n",
    "                r_iter[i]=R(r_iter[i],v_iter[i],dt)\n",
    "                count[i] += 1\n",
    "            #print r_iter[0]\n",
    "        \n",
    "        if max(count * dt)>15:\n",
    "            break\n",
    "            \n",
    "        condition=ion_exist(r_iter)\n",
    "        \n",
    "    #map coordinates into detector plane coordinate\n",
    "    r_final=np.zeros((ion_number,3))\n",
    "    for k in range(ion_number):\n",
    "        r_final[k]=cross_ratio(r_n[k],r_iter[k],count[k],dt)\n",
    "    v_final=v_iter\n",
    "    #print r_final\n",
    "    #displacement=np.array(r_new1) - np.array(r_new2)\n",
    "    ionsituation=np.concatenate((r_final,v_final),axis=1)\n",
    "    print r_final\n",
    "    return r_final"
   ]
  },
  {
   "cell_type": "code",
   "execution_count": 16,
   "metadata": {
    "collapsed": false
   },
   "outputs": [
    {
     "name": "stdout",
     "output_type": "stream",
     "text": [
      "0.0019998550415\n"
     ]
    }
   ],
   "source": [
    "# 96.8  102.5   66.\n",
    "#96.9,102.5,66.05\n",
    "xc=np.linspace(96.9 - 0.05,96.9 + 0.05,11)\n",
    "yc=np.linspace(102.5 - 0.01,102.5 + 0.01,5)\n",
    "zc=np.linspace(66.05 - 0.01,66.05 + 0.01,5)\n",
    "startpoints=np.zeros((len(xc)*len(yc)*len(zc),3))\n",
    "ionstartpoints=np.zeros((len(xc)*len(yc)*len(zc),3))\n",
    "finalpoints=np.zeros((len(xc)*len(yc)*len(zc),3))\n",
    "v=np.zeros((len(xc)*len(yc)*len(zc),3))\n",
    "ind=0\n",
    "tstart=time.time()\n",
    "for i in xc:\n",
    "    for j in yc:\n",
    "        for k in zc:\n",
    "            startpoints[ind]=np.array([i,j,k])\n",
    "            ind += 1\n",
    "\n",
    "tend=time.time()\n",
    "print tend-tstart\n",
    "ionstartpoints=startpoints\n",
    "#startpoints"
   ]
  },
  {
   "cell_type": "code",
   "execution_count": 17,
   "metadata": {
    "collapsed": false
   },
   "outputs": [],
   "source": [
    "ionfinalpoints=np.zeros((len(startpoints),3))\n",
    "v=np.zeros((len(startpoints),3))\n",
    "#ionfinalpoints=trajectories_ions(startpoints,v,dt)"
   ]
  },
  {
   "cell_type": "code",
   "execution_count": 18,
   "metadata": {
    "collapsed": false
   },
   "outputs": [],
   "source": [
    "factorfile=h5py.File(\"Time delay due to voltage factor.hdf5\",'w')"
   ]
  },
  {
   "cell_type": "code",
   "execution_count": 41,
   "metadata": {
    "collapsed": true
   },
   "outputs": [],
   "source": [
    "factor=np.array([0.93,0.97,1.,1.05,0.95,0.87,1.2,0.96])\n",
    "delay=np.array([6.7,6.3,6.,5.8,6.5,7.2,5.15,6.3])"
   ]
  },
  {
   "cell_type": "code",
   "execution_count": 42,
   "metadata": {
    "collapsed": false
   },
   "outputs": [
    {
     "ename": "IndexError",
     "evalue": "index 1 is out of bounds for axis 0 with size 1",
     "output_type": "error",
     "traceback": [
      "\u001b[1;31m---------------------------------------------------------------------------\u001b[0m",
      "\u001b[1;31mIndexError\u001b[0m                                Traceback (most recent call last)",
      "\u001b[1;32m<ipython-input-42-3c9840c56a9a>\u001b[0m in \u001b[0;36m<module>\u001b[1;34m()\u001b[0m\n\u001b[0;32m     24\u001b[0m                 \u001b[0mstartpoints\u001b[0m\u001b[1;33m[\u001b[0m\u001b[0mind\u001b[0m\u001b[1;33m]\u001b[0m\u001b[1;33m=\u001b[0m\u001b[0mnp\u001b[0m\u001b[1;33m.\u001b[0m\u001b[0marray\u001b[0m\u001b[1;33m(\u001b[0m\u001b[1;33m[\u001b[0m\u001b[0mi\u001b[0m\u001b[1;33m,\u001b[0m\u001b[0mj\u001b[0m\u001b[1;33m,\u001b[0m\u001b[0mk\u001b[0m\u001b[1;33m]\u001b[0m\u001b[1;33m)\u001b[0m\u001b[1;33m\u001b[0m\u001b[0m\n\u001b[0;32m     25\u001b[0m                 \u001b[0mind\u001b[0m \u001b[1;33m+=\u001b[0m \u001b[1;36m1\u001b[0m\u001b[1;33m\u001b[0m\u001b[0m\n\u001b[1;32m---> 26\u001b[1;33m     \u001b[0mionfinalpoints\u001b[0m\u001b[1;33m=\u001b[0m\u001b[0mtrajectories_ions\u001b[0m\u001b[1;33m(\u001b[0m\u001b[0mstartpoints\u001b[0m\u001b[1;33m,\u001b[0m\u001b[0mv\u001b[0m\u001b[1;33m,\u001b[0m\u001b[0mdt\u001b[0m\u001b[1;33m)\u001b[0m\u001b[1;33m\u001b[0m\u001b[0m\n\u001b[0m\u001b[0;32m     27\u001b[0m     \u001b[0mp_interpolation\u001b[0m\u001b[1;33m=\u001b[0m\u001b[0mrgi\u001b[0m\u001b[1;33m(\u001b[0m\u001b[1;33m(\u001b[0m\u001b[0mx\u001b[0m\u001b[1;33m,\u001b[0m\u001b[0my\u001b[0m\u001b[1;33m,\u001b[0m\u001b[0mz\u001b[0m\u001b[1;33m)\u001b[0m\u001b[1;33m,\u001b[0m\u001b[0mpotentials\u001b[0m\u001b[1;33m)\u001b[0m\u001b[1;33m\u001b[0m\u001b[0m\n\u001b[0;32m     28\u001b[0m \u001b[1;33m\u001b[0m\u001b[0m\n",
      "\u001b[1;32m<ipython-input-35-69f814e89f07>\u001b[0m in \u001b[0;36mtrajectories_ions\u001b[1;34m(r_init, v_init, dt)\u001b[0m\n\u001b[0;32m     20\u001b[0m             \u001b[1;32mif\u001b[0m \u001b[0mcondition\u001b[0m\u001b[1;33m[\u001b[0m\u001b[0mi\u001b[0m\u001b[1;33m]\u001b[0m\u001b[1;33m:\u001b[0m\u001b[1;33m\u001b[0m\u001b[0m\n\u001b[0;32m     21\u001b[0m                 \u001b[0mr_n\u001b[0m\u001b[1;33m[\u001b[0m\u001b[0mi\u001b[0m\u001b[1;33m]\u001b[0m\u001b[1;33m=\u001b[0m\u001b[0mnp\u001b[0m\u001b[1;33m.\u001b[0m\u001b[0marray\u001b[0m\u001b[1;33m(\u001b[0m\u001b[0mr_iter\u001b[0m\u001b[1;33m[\u001b[0m\u001b[0mi\u001b[0m\u001b[1;33m]\u001b[0m\u001b[1;33m)\u001b[0m\u001b[1;33m\u001b[0m\u001b[0m\n\u001b[1;32m---> 22\u001b[1;33m                 \u001b[0mv_iter\u001b[0m\u001b[1;33m[\u001b[0m\u001b[0mi\u001b[0m\u001b[1;33m]\u001b[0m\u001b[1;33m=\u001b[0m\u001b[0mGradientforce\u001b[0m\u001b[1;33m(\u001b[0m\u001b[0mnp\u001b[0m\u001b[1;33m.\u001b[0m\u001b[0marray\u001b[0m\u001b[1;33m(\u001b[0m\u001b[0mr_iter\u001b[0m\u001b[1;33m[\u001b[0m\u001b[0mi\u001b[0m\u001b[1;33m]\u001b[0m\u001b[1;33m)\u001b[0m\u001b[1;33m,\u001b[0m\u001b[0mnp\u001b[0m\u001b[1;33m.\u001b[0m\u001b[0marray\u001b[0m\u001b[1;33m(\u001b[0m\u001b[0mv_iter\u001b[0m\u001b[1;33m[\u001b[0m\u001b[0mi\u001b[0m\u001b[1;33m]\u001b[0m\u001b[1;33m)\u001b[0m\u001b[1;33m,\u001b[0m\u001b[0mdt\u001b[0m\u001b[1;33m,\u001b[0m\u001b[0mdr\u001b[0m\u001b[1;33m)\u001b[0m \u001b[1;33m+\u001b[0m \u001b[0mVCoul\u001b[0m\u001b[1;33m(\u001b[0m\u001b[0mi\u001b[0m\u001b[1;33m,\u001b[0m\u001b[0mr_iter\u001b[0m\u001b[1;33m,\u001b[0m\u001b[0mcondition\u001b[0m\u001b[1;33m)\u001b[0m \u001b[1;33m*\u001b[0m \u001b[0mdt\u001b[0m\u001b[1;33m\u001b[0m\u001b[0m\n\u001b[0m\u001b[0;32m     23\u001b[0m                 \u001b[0mr_iter\u001b[0m\u001b[1;33m[\u001b[0m\u001b[0mi\u001b[0m\u001b[1;33m]\u001b[0m\u001b[1;33m=\u001b[0m\u001b[0mR\u001b[0m\u001b[1;33m(\u001b[0m\u001b[0mr_iter\u001b[0m\u001b[1;33m[\u001b[0m\u001b[0mi\u001b[0m\u001b[1;33m]\u001b[0m\u001b[1;33m,\u001b[0m\u001b[0mv_iter\u001b[0m\u001b[1;33m[\u001b[0m\u001b[0mi\u001b[0m\u001b[1;33m]\u001b[0m\u001b[1;33m,\u001b[0m\u001b[0mdt\u001b[0m\u001b[1;33m)\u001b[0m\u001b[1;33m\u001b[0m\u001b[0m\n\u001b[0;32m     24\u001b[0m                 \u001b[0mcount\u001b[0m\u001b[1;33m[\u001b[0m\u001b[0mi\u001b[0m\u001b[1;33m]\u001b[0m \u001b[1;33m+=\u001b[0m \u001b[1;36m1\u001b[0m\u001b[1;33m\u001b[0m\u001b[0m\n",
      "\u001b[1;31mIndexError\u001b[0m: index 1 is out of bounds for axis 0 with size 1"
     ]
    }
   ],
   "source": [
    "finalfactor=np.zeros((len(factor),3))\n",
    "v=np.zeros((1,3))\n",
    "r0=np.array([96.9,102.5,66.05])\n",
    "for i in range(len(factor)):\n",
    "    electrode_set_potentials[0] *= factor[i]\n",
    "    electrode_set_potentials[1] *= factor[i]\n",
    "    electrode_set_potentials[2] *= factor[i]\n",
    "    electrode_set_potentials[3] *= factor[i]\n",
    "    electrode_set_potentials[9] *= factor[i]\n",
    "    electrode_set_potentials[10] *= factor[i]\n",
    "    electrode_set_potentials[11] *= factor[i]\n",
    "    electrode_set_potentials[12] *= factor[i]\n",
    "    electrode_set_potentials[13] *= factor[i]\n",
    "    potentials=np.zeros((len(x),len(y),len(z)))\n",
    "    for k in range(19):\n",
    "        electroden=f[\"Potential Arrays/electrode\"+str(k+1)].value\n",
    "        potentials+=electrode_set_potentials[k]*electroden/10000.\n",
    "        \n",
    "    ind=0\n",
    "    tstart=time.time()\n",
    "    for i in xc:\n",
    "        for j in yc:\n",
    "            for k in zc:\n",
    "                startpoints[ind]=np.array([i,j,k])\n",
    "                ind += 1\n",
    "    ionfinalpoints=trajectories_ions(startpoints,v,dt)\n",
    "    p_interpolation=rgi((x,y,z),potentials)\n",
    "    \n",
    "    finalpoints=np.zeros((len(xc)*len(yc)*len(zc),3))\n",
    "    vars() [\"voltagefactor\" + str(i)] =factorfile.create_dataset(\"factor\"+str(factor[i]),(finalpoints.shape),dtype=np.float64)\n",
    "    vars() [\"voltagefactor\" + str(i)][...]=finalpoints\n",
    "    [finalfactor[i],v]=trajectory2(r0,v0,dt)\n",
    "    \n",
    "    \n",
    "    electrode_set_potentials=[195.,195.,-145.,-232.,-0.114,-1900.,0.,4.,0.3,-232.,195.,195.,-145.,-232.,0.,0.,0.,0.318,0.307];"
   ]
  },
  {
   "cell_type": "code",
   "execution_count": 72,
   "metadata": {
    "collapsed": true
   },
   "outputs": [
    {
     "data": {
      "text/plain": [
       "array([[  2.93727741e+00,  -9.65229331e-01,   6.69792692e+00],\n",
       "       [  3.16131761e+00,  -6.19030737e-01,   6.80148715e+00],\n",
       "       [  3.15911161e+00,   6.51535591e-01,   6.80398884e+00],\n",
       "       [  2.92447391e+00,  -1.19986961e+00,   6.62623298e+00],\n",
       "       [  3.02077601e+00,  -4.95497293e-01,   6.72826183e+00],\n",
       "       [  2.88387241e+00,  -8.82372474e-01,   6.72343045e+00],\n",
       "       [  3.17061601e+00,  -3.95714431e-01,   6.81576203e+00],\n",
       "       [  3.19289261e+00,   3.35351884e+00,   7.48054849e+00],\n",
       "       [  2.90737022e+00,  -8.48338377e-01,   6.62140009e+00],\n",
       "       [  3.07162681e+00,  -4.03351688e-01,   6.70601521e+00],\n",
       "       [  2.77752848e+00,   5.44017141e-02,   6.76137281e+00],\n",
       "       [  3.16374768e+00,  -2.00657154e-01,   6.82529125e+00],\n",
       "       [  2.72312225e+00,  -5.55406500e+00,   8.12530961e+00],\n",
       "       [  2.83891869e+00,  -4.85960517e-01,   6.63420535e+00],\n",
       "       [  3.03664524e+00,  -2.72813504e-01,   6.69111274e+00],\n",
       "       [  2.85807091e+00,   1.55069770e-01,   6.74116771e+00],\n",
       "       [  3.14013609e+00,   9.54497972e-03,   6.82422771e+00],\n",
       "       [  3.08667172e+00,  -2.86946231e+00,   6.90984937e+00],\n",
       "       [  2.91607444e+00,   5.49121966e-01,   6.61859258e+00],\n",
       "       [  3.07315927e+00,  -1.16714712e-01,   6.69674338e+00],\n",
       "       [  2.84666499e+00,   3.98835101e-01,   6.71917100e+00],\n",
       "       [  3.11928417e+00,   2.76203805e-01,   6.81002465e+00],\n",
       "       [  3.11131823e+00,  -9.06368608e-01,   6.80629907e+00],\n",
       "       [  2.86732150e+00,   9.26297890e-01,   6.62664555e+00],\n",
       "       [  3.04212455e+00,   7.73582662e-02,   6.70622338e+00],\n",
       "       [  2.87576686e+00,  -9.95189406e-01,   6.68605227e+00],\n",
       "       [  3.09906407e+00,  -8.13380728e-01,   6.78554314e+00],\n",
       "       [  3.17220715e+00,   1.94597352e-01,   6.79909772e+00],\n",
       "       [  2.47269390e+00,  -1.17363066e+00,   6.46028063e+00],\n",
       "       [  2.99781679e+00,  -8.26535849e-01,   6.62462508e+00],\n",
       "       [  2.80441771e+00,  -8.47826703e-01,   6.71116448e+00],\n",
       "       [  3.13178586e+00,  -5.37313848e-01,   6.78861202e+00],\n",
       "       [  2.96883512e+00,   1.77327834e-02,   6.91529443e+00],\n",
       "       [  2.26769981e+00,   3.00512971e+00,   6.08162336e+00],\n",
       "       [  2.97267006e+00,  -5.97614194e-01,   6.62102435e+00],\n",
       "       [  2.69876934e+00,  -1.35710462e-02,   6.73781316e+00],\n",
       "       [  2.97226202e+00,   8.06049815e-02,   6.80140804e+00],\n",
       "       [  2.79927796e+00,  -5.79116837e-01,   6.89932516e+00],\n",
       "       [  5.23857073e+00,   2.57741293e-01,   6.29951235e+00],\n",
       "       [  2.96819813e+00,  -1.07118694e-01,   6.62705509e+00],\n",
       "       [  2.73470080e+00,   2.15014736e-01,   6.72865540e+00],\n",
       "       [  3.05325773e+00,   2.58655663e-01,   6.80339962e+00],\n",
       "       [  2.92427588e+00,  -9.39137466e-01,   6.84816577e+00],\n",
       "       [  2.30703718e+00,  -2.05207290e+00,   6.12296992e+00],\n",
       "       [  2.98262050e+00,   1.41416272e-01,   6.62689807e+00],\n",
       "       [  2.77336235e+00,   4.81414317e-01,   6.70885819e+00],\n",
       "       [  3.05767752e+00,   4.88293623e-01,   6.78746362e+00],\n",
       "       [  3.08569310e+00,  -3.26206803e-01,   6.80526373e+00],\n",
       "       [  2.40776064e+00,   1.01280793e+00,   6.42482986e+00],\n",
       "       [  2.86497207e+00,   5.83873021e-01,   6.63339200e+00],\n",
       "       [  2.81960194e+00,  -1.00295486e+00,   6.67792536e+00],\n",
       "       [  3.02746149e+00,  -9.22509713e-01,   6.76792172e+00],\n",
       "       [  3.17103156e+00,  -4.16891412e-02,   6.73169670e+00],\n",
       "       [  2.13000547e+00,   2.07690781e+00,   5.95414106e+00],\n",
       "       [  2.89908782e+00,  -8.77057438e-01,   6.62690508e+00],\n",
       "       [  2.74196480e+00,  -8.15817542e-01,   6.70314592e+00],\n",
       "       [  3.07153110e+00,  -5.57249529e-01,   6.76539543e+00],\n",
       "       [  2.88964274e+00,  -6.61711961e-02,   6.90163528e+00],\n",
       "       [  2.95594715e+00,  -4.94786815e-01,   6.60400535e+00],\n",
       "       [  2.64808208e+00,  -1.06669695e-01,   6.72698957e+00],\n",
       "       [  3.03603867e+00,  -2.19503370e-01,   6.81307965e+00],\n",
       "       [  2.87795627e+00,  -4.16308801e-01,   6.91211353e+00],\n",
       "       [  3.00843327e+00,  -5.34676640e-02,   8.77871554e+00],\n",
       "       [  2.93269859e+00,  -1.43082832e-01,   6.61605367e+00],\n",
       "       [  2.70816578e+00,   1.90711349e-01,   6.71324826e+00],\n",
       "       [  2.96569383e+00,   3.52151452e-01,   6.79247695e+00],\n",
       "       [  2.93664736e+00,  -7.37554118e-01,   6.85970938e+00],\n",
       "       [  2.92483467e+00,   2.14806217e-01,   6.61117240e+00],\n",
       "       [  2.71930267e+00,   5.26981732e-01,   6.70674871e+00],\n",
       "       [  2.99213481e+00,   5.83436818e-01,   6.77284348e+00],\n",
       "       [  2.93081232e+00,  -3.75105810e-01,   6.78344638e+00],\n",
       "       [  2.25039447e+00,  -6.53700337e+00,   5.91937856e+00],\n",
       "       [  2.85812642e+00,   6.26200280e-01,   6.61015811e+00],\n",
       "       [  2.78283164e+00,  -9.98035166e-01,   6.66687004e+00],\n",
       "       [  2.96624621e+00,  -9.94437295e-01,   6.75622149e+00],\n",
       "       [  3.12658527e+00,   2.52105627e-02,   6.70798139e+00],\n",
       "       [  2.89482039e+00,  -8.90400146e-01,   6.59986033e+00],\n",
       "       [  2.70594705e+00,  -7.73714915e-01,   6.69450286e+00],\n",
       "       [  2.99352330e+00,  -6.03591396e-01,   6.75963923e+00],\n",
       "       [  2.94450122e+00,  -1.15830692e-01,   6.88047568e+00],\n",
       "       [  4.03608776e+00,   3.86587363e+00,   8.06850783e+00],\n",
       "       [  2.90627812e+00,  -5.04156086e-01,   6.59544717e+00],\n",
       "       [  2.62612894e+00,  -1.78062954e-01,   6.71518290e+00],\n",
       "       [  2.99519840e+00,  -1.66909634e-01,   6.77870937e+00],\n",
       "       [  2.81801087e+00,  -4.18719121e-01,   6.91425046e+00],\n",
       "       [  4.04693798e+00,  -1.72526854e-01,   7.63759580e+00],\n",
       "       [  2.91188640e+00,  -1.38301836e-01,   6.59829256e+00],\n",
       "       [  2.67898954e+00,   1.75854094e-01,   6.70103630e+00],\n",
       "       [  2.90426815e+00,   4.18953461e-01,   6.78335059e+00],\n",
       "       [  2.85584352e+00,  -6.51723909e-01,   6.87296297e+00],\n",
       "       [  4.32917994e+00,  -4.04497376e+00,   7.97179212e+00],\n",
       "       [  2.89324323e+00,   2.32692141e-01,   6.59659394e+00],\n",
       "       [  2.70297818e+00,   5.44446529e-01,   6.67878533e+00],\n",
       "       [  2.94748898e+00,   6.68738467e-01,   6.75797424e+00],\n",
       "       [  2.84009392e+00,  -2.68240061e-01,   6.76984868e+00],\n",
       "       [  2.80852707e+00,   6.23282983e-01,   6.60073455e+00],\n",
       "       [  2.74728474e+00,  -9.88274442e-01,   6.65474719e+00],\n",
       "       [  2.91914088e+00,  -1.04561296e+00,   6.74668184e+00],\n",
       "       [  3.06748159e+00,   8.13905292e-02,   6.66337705e+00],\n",
       "       [  2.86772767e+00,  -9.12426273e-01,   6.58704669e+00],\n",
       "       [  2.68164310e+00,  -7.35838816e-01,   6.67976727e+00],\n",
       "       [  2.94126719e+00,  -6.07200921e-01,   6.74793183e+00],\n",
       "       [  2.93204290e+00,  -2.95792048e-01,   6.87730015e+00],\n",
       "       [  3.80199034e+00,   2.15536574e+00,   7.46130612e+00],\n",
       "       [  2.87253059e+00,  -5.18004551e-01,   6.58174072e+00],\n",
       "       [  2.61991477e+00,  -2.26081765e-01,   6.69959644e+00],\n",
       "       [  2.90747460e+00,  -1.00613098e-01,   6.77175357e+00],\n",
       "       [  2.79546097e+00,  -4.07691801e-01,   6.90239081e+00],\n",
       "       [  3.70626036e+00,  -1.67448952e-01,   7.22718930e+00],\n",
       "       [  2.86492628e+00,  -1.06937233e-01,   6.58601660e+00],\n",
       "       [  2.65761666e+00,   1.60240648e-01,   6.68688997e+00],\n",
       "       [  2.85229205e+00,   4.66565447e-01,   6.77215726e+00],\n",
       "       [  2.80758611e+00,  -5.03786240e-01,   6.87275143e+00],\n",
       "       [  3.84484625e+00,  -2.42382848e+00,   7.44807250e+00],\n",
       "       [  2.85678048e+00,   2.51968726e-01,   6.58341271e+00],\n",
       "       [  2.68331738e+00,   5.50301365e-01,   6.66420642e+00],\n",
       "       [  2.90136095e+00,   7.13622588e-01,   6.74528002e+00],\n",
       "       [  2.74218296e+00,  -9.21638526e-02,   6.77513425e+00],\n",
       "       [  2.80203047e+00,   6.63090778e-01,   6.58496522e+00],\n",
       "       [  2.71861972e+00,  -9.68969443e-01,   6.64587586e+00],\n",
       "       [  2.87129069e+00,  -1.07556776e+00,   6.73557449e+00],\n",
       "       [  3.00629706e+00,   1.94082338e-01,   6.61858474e+00],\n",
       "       [  2.49433970e+00,   6.03846218e+00,   8.06353599e+00],\n",
       "       [  2.83897300e+00,  -9.27640848e-01,   6.57242450e+00],\n",
       "       [  2.66507366e+00,  -6.97769902e-01,   6.66597187e+00],\n",
       "       [  2.88522011e+00,  -6.35282924e-01,   6.73896850e+00],\n",
       "       [  2.90141128e+00,  -4.44404360e-01,   6.84781687e+00],\n",
       "       [  3.63714321e+00,   1.47604975e+00,   7.22765518e+00],\n",
       "       [  2.85621058e+00,  -5.67069882e-01,   6.56347174e+00],\n",
       "       [  2.60913518e+00,  -2.50029109e-01,   6.68257759e+00],\n",
       "       [  2.82697112e+00,  -5.64516903e-02,   6.76824645e+00],\n",
       "       [  2.77477466e+00,  -4.06605610e-01,   6.88384833e+00],\n",
       "       [  3.54790821e+00,  -1.72829644e-01,   7.07275296e+00],\n",
       "       [  2.81853771e+00,  -1.13580742e-01,   6.57020506e+00],\n",
       "       [  2.64080410e+00,   1.34630601e-01,   6.67068186e+00],\n",
       "       [  2.79409696e+00,   5.23536960e-01,   6.76051183e+00],\n",
       "       [  2.81579243e+00,  -4.04382853e-01,   6.84440490e+00],\n",
       "       [  3.65935036e+00,  -1.71605171e+00,   7.21466070e+00],\n",
       "       [  2.81682067e+00,   2.91834914e-01,   6.57277159e+00],\n",
       "       [  2.66906967e+00,   5.35777323e-01,   6.64768301e+00],\n",
       "       [  2.85638845e+00,   7.40257790e-01,   6.73242445e+00],\n",
       "       [  2.69768108e+00,   5.74471449e-02,   6.78159369e+00],\n",
       "       [  2.77317667e+00,   6.80437974e-01,   6.57097124e+00],\n",
       "       [  2.69812439e+00,  -9.39850560e-01,   6.62360664e+00],\n",
       "       [  2.82100976e+00,  -1.08971535e+00,   6.72268158e+00],\n",
       "       [  2.98515641e+00,  -1.41131411e-01,   6.54265760e+00],\n",
       "       [  2.80695313e+00,  -9.16354938e-01,   6.55717000e+00],\n",
       "       [  2.64975339e+00,  -6.67422670e-01,   6.65010830e+00],\n",
       "       [  2.82048817e+00,  -6.75577961e-01,   6.73125057e+00],\n",
       "       [  2.87382086e+00,  -4.75720725e-01,   6.82096296e+00],\n",
       "       [  3.53554513e+00,   1.11609537e+00,   7.11017829e+00],\n",
       "       [  2.81453934e+00,  -5.17005000e-01,   6.55297942e+00],\n",
       "       [  2.60767799e+00,  -2.66585151e-01,   6.65997673e+00],\n",
       "       [  2.75709238e+00,  -2.83747098e-02,   6.75789058e+00],\n",
       "       [  2.75130888e+00,  -4.13762640e-01,   6.86178656e+00],\n",
       "       [  3.45903381e+00,  -1.59311759e-01,   6.98013903e+00],\n",
       "       [  2.79603284e+00,  -7.21802284e-02,   6.55403141e+00],\n",
       "       [  2.62875565e+00,   1.12423950e-01,   6.65167293e+00],\n",
       "       [  2.71693621e+00,   5.69272238e-01,   6.74522764e+00],\n",
       "       [  2.76931105e+00,  -3.56173437e-01,   6.83317397e+00],\n",
       "       [  3.54046483e+00,  -1.34884028e+00,   7.08836796e+00],\n",
       "       [  2.78630451e+00,   2.97522275e-01,   6.55572043e+00],\n",
       "       [  2.65770996e+00,   5.13356410e-01,   6.62929541e+00],\n",
       "       [  2.81092279e+00,   7.55877513e-01,   6.71700967e+00],\n",
       "       [  2.67755272e+00,   1.80796845e-01,   6.77710314e+00],\n",
       "       [  3.50876011e+00,  -6.18675473e+00,   7.68484994e+00],\n",
       "       [  2.74379053e+00,   6.76829782e-01,   6.55554194e+00],\n",
       "       [  2.68074677e+00,  -9.07929547e-01,   6.60729544e+00],\n",
       "       [  2.76775715e+00,  -1.09456253e+00,   6.70549968e+00],\n",
       "       [  3.03705517e+00,  -8.81133788e-01,   6.65216350e+00],\n",
       "       [  3.53456473e+00,   5.39926531e+00,   7.70190140e+00],\n",
       "       [  2.76891879e+00,  -9.10276633e-01,   6.54054170e+00],\n",
       "       [  2.63701053e+00,  -6.33460419e-01,   6.62619911e+00],\n",
       "       [  2.75023789e+00,  -7.28673326e-01,   6.72107897e+00],\n",
       "       [  2.81546901e+00,  -4.79066092e-01,   6.79573637e+00],\n",
       "       [  3.47375761e+00,   9.04063042e-01,   7.04449882e+00],\n",
       "       [  2.78037590e+00,  -5.56211394e-01,   6.53667269e+00],\n",
       "       [  2.60876269e+00,  -2.78475873e-01,   6.63428197e+00],\n",
       "       [  2.71878947e+00,  -6.51592226e-02,   6.72668280e+00],\n",
       "       [  2.71833624e+00,  -4.32010588e-01,   6.83223792e+00],\n",
       "       [  3.40475092e+00,  -1.54764089e-01,   6.90822920e+00],\n",
       "       [  2.76276829e+00,  -1.01857289e-01,   6.53521771e+00],\n",
       "       [  2.61865943e+00,   8.58888687e-02,   6.63013946e+00],\n",
       "       [  2.65244324e+00,   5.11144217e-01,   6.72516177e+00],\n",
       "       [  2.71825214e+00,  -3.34989929e-01,   6.81282589e+00],\n",
       "       [  3.45881848e+00,  -1.10451495e+00,   7.00394050e+00],\n",
       "       [  2.75098091e+00,   2.88863862e-01,   6.53611238e+00],\n",
       "       [  2.64540851e+00,   4.80595952e-01,   6.61093957e+00],\n",
       "       [  2.76480217e+00,   7.51875639e-01,   6.69936642e+00],\n",
       "       [  2.66125049e+00,   2.36248904e-01,   6.75875594e+00],\n",
       "       [  3.58974861e+00,  -4.84903576e+00,   7.50282127e+00],\n",
       "       [  2.71860852e+00,   6.65765443e-01,   6.53865158e+00],\n",
       "       [  2.66068204e+00,  -8.61726320e-01,   6.58222727e+00],\n",
       "       [  2.71841714e+00,  -1.06231922e+00,   6.68431829e+00],\n",
       "       [  2.96005948e+00,  -8.40603689e-01,   6.64884723e+00],\n",
       "       [  3.56326487e+00,   4.25552372e+00,   7.55917491e+00],\n",
       "       [  2.73373081e+00,  -8.61070694e-01,   6.52187708e+00],\n",
       "       [  2.62758829e+00,  -5.98979501e-01,   6.60157225e+00],\n",
       "       [  2.68249104e+00,  -7.36079032e-01,   6.70346284e+00],\n",
       "       [  2.75223601e+00,  -4.71356848e-01,   6.76784479e+00],\n",
       "       [  3.43385662e+00,   4.62527887e-01,   6.99306733e+00],\n",
       "       [  2.74193520e+00,  -5.07057182e-01,   6.51460363e+00],\n",
       "       [  2.60392759e+00,  -2.88920484e-01,   6.60999956e+00],\n",
       "       [  2.65728909e+00,  -4.92747808e-02,   6.72563717e+00],\n",
       "       [  2.67327917e+00,  -4.39231054e-01,   6.78764920e+00],\n",
       "       [  3.35087671e+00,  -4.59140557e-01,   6.86582748e+00],\n",
       "       [  2.71911309e+00,  -1.06058036e-01,   6.51329801e+00],\n",
       "       [  2.60861299e+00,   5.14138836e-02,   6.60369582e+00],\n",
       "       [  2.61849112e+00,   3.96179363e-01,   6.69972585e+00],\n",
       "       [  2.67740316e+00,  -3.08182506e-01,   6.78119042e+00],\n",
       "       [  3.40270749e+00,  -9.28634191e-01,   6.94682789e+00],\n",
       "       [  2.70626438e+00,   2.91411908e-01,   6.51509901e+00],\n",
       "       [  2.62896403e+00,   4.27153347e-01,   6.58563540e+00],\n",
       "       [  2.71947266e+00,   7.18764017e-01,   6.67844385e+00],\n",
       "       [  2.62641676e+00,   2.26933914e-01,   6.73601998e+00],\n",
       "       [  3.58849647e+00,  -3.89302651e+00,   7.39057207e+00],\n",
       "       [  2.68784733e+00,   6.32330744e-01,   6.51955245e+00],\n",
       "       [  2.65348240e+00,  -7.84106898e-01,   6.55238278e+00],\n",
       "       [  2.65746057e+00,  -9.72400533e-01,   6.65661270e+00],\n",
       "       [  2.67309891e+00,  -1.02738025e+00,   6.66089167e+00],\n",
       "       [  3.58183088e+00,   3.46568573e+00,   7.57050772e+00],\n",
       "       [  2.69494953e+00,  -7.86700027e-01,   6.50030807e+00],\n",
       "       [  2.61301342e+00,  -5.59436303e-01,   6.56340531e+00],\n",
       "       [  2.63721262e+00,  -6.13338036e-01,   6.65684282e+00],\n",
       "       [  2.67738874e+00,  -4.59315026e-01,   6.72868316e+00],\n",
       "       [  3.40966635e+00,   3.24013300e-01,   6.96209458e+00],\n",
       "       [  2.69229150e+00,  -4.77727234e-01,   6.48595076e+00],\n",
       "       [  2.59664169e+00,  -2.93514053e-01,   6.57039210e+00],\n",
       "       [  2.62538307e+00,  -1.48209883e-01,   6.65241264e+00],\n",
       "       [  2.59492858e+00,  -3.63291969e-01,   6.70611175e+00],\n",
       "       [  3.35933321e+00,  -2.77069123e-01,   6.80372497e+00],\n",
       "       [  2.65844590e+00,  -1.15045423e-01,   6.48435564e+00],\n",
       "       [  2.60094947e+00,   2.07943744e-03,   6.56964512e+00],\n",
       "       [  2.59290872e+00,   2.61686199e-01,   6.66189491e+00],\n",
       "       [  2.61833381e+00,  -2.81302531e-01,   6.73611599e+00],\n",
       "       [  3.36826443e+00,  -7.46153157e-01,   6.90517523e+00],\n",
       "       [  2.67488645e+00,   1.84548672e-01,   6.48708567e+00],\n",
       "       [  2.62592619e+00,   3.49301963e-01,   6.55694841e+00],\n",
       "       [  2.67133596e+00,   6.41906244e-01,   6.65085259e+00],\n",
       "       [  2.58405421e+00,   2.03469253e-01,   6.70428155e+00],\n",
       "       [  3.57832087e+00,  -3.31140149e+00,   7.39398173e+00],\n",
       "       [  2.65029336e+00,   5.75713780e-01,   6.49705023e+00],\n",
       "       [  2.66058456e+00,  -6.57397161e-01,   6.51125817e+00],\n",
       "       [  2.63451148e+00,  -8.18128273e-01,   6.60202694e+00],\n",
       "       [  2.67388581e+00,  -8.58303775e-01,   6.61091688e+00],\n",
       "       [  3.41285489e+00,   3.15153420e+00,   8.19934591e+00],\n",
       "       [  2.64766631e+00,  -6.25085216e-01,   6.46818858e+00],\n",
       "       [  2.63654331e+00,  -5.06196002e-01,   6.51051534e+00],\n",
       "       [  2.60454424e+00,  -5.82783990e-01,   6.58127232e+00],\n",
       "       [  2.60984034e+00,  -4.48843335e-01,   6.62932597e+00],\n",
       "       [  3.39958313e+00,  -3.63832394e-02,   6.95049597e+00],\n",
       "       [  2.61426518e+00,  -3.52170443e-01,   6.45558065e+00],\n",
       "       [  2.62453835e+00,  -3.23998125e-01,   6.51018874e+00],\n",
       "       [  2.55819669e+00,  -1.40989023e-01,   6.56507750e+00],\n",
       "       [  2.53816791e+00,  -3.85313672e-01,   6.60363044e+00],\n",
       "       [  3.15777445e+00,  -6.38054909e-03,   6.81137831e+00],\n",
       "       [  2.59226703e+00,  -1.05873653e-01,   6.44813730e+00],\n",
       "       [  2.62178061e+00,  -1.04421846e-01,   6.51387284e+00],\n",
       "       [  2.58587856e+00,   1.35707089e-01,   6.58908415e+00],\n",
       "       [  2.55562429e+00,  -2.31440661e-01,   6.62382746e+00],\n",
       "       [  3.36072439e+00,  -5.14507326e-01,   6.89329533e+00],\n",
       "       [  2.58699575e+00,   1.58205804e-01,   6.45411620e+00],\n",
       "       [  2.63337127e+00,   1.76308760e-01,   6.51860413e+00],\n",
       "       [  2.61480350e+00,   4.58786026e-01,   6.60513619e+00],\n",
       "       [  2.55879156e+00,   1.82473679e-01,   6.64173568e+00],\n",
       "       [  3.56959582e+00,  -3.23861299e+00,   7.90273873e+00],\n",
       "       [  2.58802696e+00,   4.71760820e-01,   6.47112888e+00]])"
      ]
     },
     "execution_count": 72,
     "metadata": {},
     "output_type": "execute_result"
    }
   ],
   "source": [
    "finalpoints_good=ionfinalpoints[np.linalg.norm(ionfinalpoints[:,:2],axis=1) < 7.25]\n",
    "finalpoints_good"
   ]
  },
  {
   "cell_type": "code",
   "execution_count": 22,
   "metadata": {
    "collapsed": false,
    "scrolled": true
   },
   "outputs": [
    {
     "ename": "NameError",
     "evalue": "name 'ionfinalpoints' is not defined",
     "output_type": "error",
     "traceback": [
      "\u001b[1;31m---------------------------------------------------------------------------\u001b[0m",
      "\u001b[1;31mNameError\u001b[0m                                 Traceback (most recent call last)",
      "\u001b[1;32m<ipython-input-22-d8d7331062ec>\u001b[0m in \u001b[0;36m<module>\u001b[1;34m()\u001b[0m\n\u001b[1;32m----> 1\u001b[1;33m \u001b[0mionfinalpoints\u001b[0m\u001b[1;33m.\u001b[0m\u001b[0mshape\u001b[0m\u001b[1;33m,\u001b[0m \u001b[0mfinalpoints_good\u001b[0m\u001b[1;33m.\u001b[0m\u001b[0mshape\u001b[0m\u001b[1;33m\u001b[0m\u001b[0m\n\u001b[0m",
      "\u001b[1;31mNameError\u001b[0m: name 'ionfinalpoints' is not defined"
     ]
    }
   ],
   "source": [
    "ionfinalpoints.shape, finalpoints_good.shape"
   ]
  },
  {
   "cell_type": "code",
   "execution_count": 63,
   "metadata": {
    "collapsed": false,
    "scrolled": true
   },
   "outputs": [
    {
     "data": {
      "image/png": "[encoded data removed]",
      "text/plain": [
       "<matplotlib.figure.Figure at 0x11000860>"
      ]
     },
     "metadata": {},
     "output_type": "display_data"
    }
   ],
   "source": [
    "%matplotlib inline\n",
    "plt.figure()\n",
    "theta=np.linspace(0,2*np.pi,100)\n",
    "plt.plot(7.25*np.sin(theta),7.25*np.cos(theta))\n",
    "plt.axes().set_aspect('equal')\n",
    "plt.plot(finalpoints_good[:,0],finalpoints_good[:,1],'*')\n",
    "plt.xlabel(\"x axis on MCP/mm\")\n",
    "plt.ylabel(\"y axis on MCP/mm\")\n",
    "#plt.xlim([-8,8])\n",
    "#plt.ylim([-8,8])\n",
    "plt.title(\"final position map of 267/275 ions with interaction\")\n",
    "plt.show()"
   ]
  },
  {
   "cell_type": "code",
   "execution_count": 68,
   "metadata": {
    "collapsed": false,
    "scrolled": false
   },
   "outputs": [
    {
     "data": {
      "text/plain": [
       "'\\n%matplotlib notebook\\nnewplot=plt.figure()\\nionplot=newplot.add_subplot(111,projection=\\'3d\\')\\n#mp.plot(MCP[:,0],MCP[:,1],MCP[:,2],label=\\'MCP\\')\\nionplot.plot(startpoints[:,0],startpoints[:,1],startpoints[:,2],\\'.\\')\\n#mp.plot(points[:,0],points[:,1],points[:,2])\\nplt.xlabel(\"X\")\\nplt.ylabel(\"Y\")\\nplt.title(\"Start point, x:94.45 - 94.55, y:102.49 - 102.51, z:55.49 - 55.51 \\n ion distance 5um\")\\nplt.show()\\n'"
      ]
     },
     "execution_count": 68,
     "metadata": {},
     "output_type": "execute_result"
    }
   ],
   "source": [
    "\"\"\"\n",
    "%matplotlib notebook\n",
    "newplot=plt.figure()\n",
    "ionplot=newplot.add_subplot(111,projection='3d')\n",
    "#mp.plot(MCP[:,0],MCP[:,1],MCP[:,2],label='MCP')\n",
    "ionplot.plot(startpoints[:,0],startpoints[:,1],startpoints[:,2],'.')\n",
    "#mp.plot(points[:,0],points[:,1],points[:,2])\n",
    "plt.xlabel(\"X\")\n",
    "plt.ylabel(\"Y\")\n",
    "plt.title(\"Start point, x:94.45 - 94.55, y:102.49 - 102.51, z:55.49 - 55.51 \\n ion distance 5um\")\n",
    "plt.show()\n",
    "\"\"\""
   ]
  },
  {
   "cell_type": "code",
   "execution_count": 71,
   "metadata": {
    "collapsed": false,
    "scrolled": false
   },
   "outputs": [
    {
     "data": {
      "image/png": "[encoded data removed]",
      "text/plain": [
       "<matplotlib.figure.Figure at 0x111967b8>"
      ]
     },
     "metadata": {},
     "output_type": "display_data"
    }
   ],
   "source": [
    "%matplotlib inline\n",
    "count, bins, ignored = plt.hist(finalpoints_good[:,2], 50)\n",
    "plt.xlabel(\"ions arrival time/us\")\n",
    "plt.ylabel(\"ion number\")\n",
    "plt.title(\"267/275 ions TOF with interaction\")\n",
    "plt.show()"
   ]
  },
  {
   "cell_type": "code",
   "execution_count": 73,
   "metadata": {
    "collapsed": false
   },
   "outputs": [],
   "source": [
    "fions=h5py.File('TOF and final position with Coulombic interaction.hdf5','w')"
   ]
  },
  {
   "cell_type": "code",
   "execution_count": 76,
   "metadata": {
    "collapsed": true
   },
   "outputs": [],
   "source": [
    "TOFv2=fions.create_group(\"new voltage set\")"
   ]
  },
  {
   "cell_type": "code",
   "execution_count": 78,
   "metadata": {
    "collapsed": false
   },
   "outputs": [],
   "source": [
    "finalcoulv2=TOFv2.create_dataset(\"final points\",(ionfinalpoints.shape),dtype=np.float64)\n",
    "finalcoulv2[...]=ionfinalpoints"
   ]
  },
  {
   "cell_type": "code",
   "execution_count": 79,
   "metadata": {
    "collapsed": true
   },
   "outputs": [],
   "source": [
    "startcoul=TOFv2.create_dataset(\"startpoints\",(startpoints.shape),dtype=np.float64)\n",
    "startcoul[...]=startpoints"
   ]
  },
  {
   "cell_type": "code",
   "execution_count": 237,
   "metadata": {
    "collapsed": true
   },
   "outputs": [],
   "source": [
    "fcoul=h5py.File('TOF and final position with Coulombic interaction.hdf5','w')"
   ]
  },
  {
   "cell_type": "code",
   "execution_count": 238,
   "metadata": {
    "collapsed": true
   },
   "outputs": [],
   "source": [
    "startcoul=fcoul.create_dataset(\"startpoints\",(startpoints.shape),dtype=np.float64)"
   ]
  },
  {
   "cell_type": "code",
   "execution_count": 265,
   "metadata": {
    "collapsed": true
   },
   "outputs": [],
   "source": [
    "startcoul[...]=startpoints"
   ]
  },
  {
   "cell_type": "code",
   "execution_count": 239,
   "metadata": {
    "collapsed": true
   },
   "outputs": [],
   "source": [
    "finalcoul=fcoul.create_dataset(\"finalpoints\",(finalpoints.shape),dtype=np.float64)\n",
    "finalcoul[...]=finalpoints"
   ]
  },
  {
   "cell_type": "code",
   "execution_count": 27,
   "metadata": {
    "collapsed": false
   },
   "outputs": [],
   "source": [
    "fnocoul=h5py.File('TOF and final position without Couloumbic interaction.hdf5','w')"
   ]
  },
  {
   "cell_type": "code",
   "execution_count": 28,
   "metadata": {
    "collapsed": true
   },
   "outputs": [],
   "source": [
    "single=fnocoul.create_dataset(\"single ions final position\",(singlefinals.shape),dtype=np.float64)"
   ]
  },
  {
   "cell_type": "code",
   "execution_count": 162,
   "metadata": {
    "collapsed": false,
    "scrolled": true
   },
   "outputs": [
    {
     "name": "stdout",
     "output_type": "stream",
     "text": [
      "[[ 0.18829336  0.07690852  4.45376038]\n",
      " [ 0.05391135  0.08748673  4.44320879]\n",
      " [-0.07262028  0.0979      4.43302534]\n",
      " [-0.19288363  0.10811478  4.42307097]\n",
      " [-0.30193144  0.11810359  4.41349445]\n",
      " [-0.3992394   0.12778341  4.40436299]\n",
      " [-0.48707629  0.13710076  4.39575847]\n",
      " [-0.56709355  0.14628521  4.38757263]\n",
      " [-0.6336089   0.15531062  4.37977038]\n",
      " [-0.68683687  0.16414294  4.37236991]\n",
      " [-0.719545    0.17271789  4.36547806]\n",
      " [-0.73730465  0.18100197  4.35924184]\n",
      " [-0.75769785  0.1892606   4.35392753]\n",
      " [-0.76707881  0.19739203  4.34897964]\n",
      " [-0.78482101  0.20536316  4.34435681]\n",
      " [-0.80398912  0.21300716  4.3395068 ]\n",
      " [-0.83763186  0.22029878  4.33458917]\n",
      " [-0.88079716  0.22740469  4.329504  ]\n",
      " [-0.93059264  0.23418254  4.32354854]\n",
      " [-0.99867372  0.24077771  4.31781273]\n",
      " [-1.07005457  0.24711208  4.31219076]\n",
      " [-1.15118889  0.25299205  4.30590794]\n",
      " [-1.23979883  0.25881449  4.30018954]\n",
      " [-1.32781134  0.2644488   4.29437629]\n",
      " [-1.42037083  0.26988538  4.28862454]\n",
      " [-1.50727853  0.27515801  4.28334964]\n",
      " [-1.59727215  0.28005951  4.27773767]\n",
      " [-1.67980983  0.28494058  4.27272935]\n",
      " [-1.75627389  0.28964759  4.26761648]\n",
      " [-1.8282727   0.2942395   4.26284762]\n",
      " [-1.8901692   0.29860263  4.25804362]\n",
      " [-1.94559998  0.30273343  4.25344365]\n",
      " [-1.9966892   0.30675501  4.24887338]\n",
      " [-2.03966268  0.31064943  4.24438618]\n",
      " [-2.0834154   0.31441704  4.24002682]\n",
      " [-2.11608648  0.31797081  4.23564918]\n",
      " [-2.15140699  0.321317    4.23140757]\n",
      " [-2.17436019  0.3245674   4.22720233]\n",
      " [-2.20221216  0.3276954   4.22303825]\n",
      " [-2.22287179  0.33076587  4.21915076]\n",
      " [-2.24274046  0.33356867  4.21498029]\n",
      " [-2.26310967  0.3362705   4.21121428]\n",
      " [-2.27608977  0.33880764  4.20718889]\n",
      " [-2.29320825  0.34130131  4.20343446]\n",
      " [-2.30432166  0.3437584   4.19995968]\n",
      " [-2.31444209  0.3459103   4.1959772 ]\n",
      " [-2.32624194  0.34801863  4.1925111 ]\n",
      " [-2.3315577   0.35001338  4.18891787]\n",
      " [-2.33677096  0.35189613  4.1852813 ]\n",
      " [-2.34450678  0.35379179  4.18205318]\n",
      " [-2.34645273  0.35544158  4.17842652]\n",
      " [-2.345717    0.35700942  4.17507979]\n",
      " [-2.34870228  0.35861818  4.17200747]\n",
      " [-2.34717441  0.36006469  4.16843094]\n",
      " [-2.34262956  0.3614534   4.16526177]\n",
      " [-2.34143023  0.36286947  4.16234457]\n",
      " [-2.33565594  0.36426896  4.15893487]\n",
      " [-2.32685648  0.36584806  4.15576507]\n",
      " [-2.32110744  0.36705769  4.15291429]\n",
      " [-2.3121676   0.36817339  4.14981127]\n",
      " [-2.30013201  0.36862673  4.14658632]\n",
      " [-2.28827289  0.36875516  4.14380399]\n",
      " [-2.27611199  0.36925324  4.1410268 ]\n",
      " [-2.26270871  0.36970477  4.13771812]\n",
      " [-2.24527567  0.37031039  4.13498962]\n",
      " [-2.23013423  0.37086441  4.13242986]\n",
      " [-2.2133374   0.37117419  4.12933357]\n",
      " [-2.19329003  0.37150928  4.12639998]\n",
      " [-2.17258244  0.37191569  4.12383789]\n",
      " [-2.15201573  0.37227061  4.12121927]\n",
      " [-2.13174299  0.37241422  4.11811221]\n",
      " [-2.10309285  0.37259679  4.11542915]\n",
      " [-2.07871961  0.37281592  4.11296937]\n",
      " [-2.05025058  0.37293561  4.11024179]\n",
      " [-2.02390708  0.37291498  4.1072006 ]\n",
      " [-1.98640643  0.37299635  4.10470125]\n",
      " [-1.95227445  0.37305012  4.10228944]\n",
      " [-1.91530892  0.37296529  4.09946532]\n",
      " [-1.87844861  0.37281093  4.09651335]\n",
      " [-1.83211968  0.37278217  4.09410558]\n",
      " [-1.78569327  0.37271504  4.09171336]\n",
      " [-1.73647805  0.37250371  4.08889934]\n",
      " [-1.69079031  0.37225436  4.08605194]\n",
      " [-1.63438527  0.3721103   4.08365691]\n",
      " [-1.57405979  0.3719935   4.08142899]\n",
      " [-1.51410856  0.37173329  4.07876099]\n",
      " [-1.45825944  0.37143645  4.07604366]\n",
      " [-1.39321044  0.37124066  4.07373683]\n",
      " [-1.32384238  0.37106475  4.07155914]\n",
      " [-1.25827574  0.37077493  4.0690163 ]\n",
      " [-1.19482462  0.37046496  4.06643225]\n",
      " [-1.13309366  0.37020341  4.06403203]\n",
      " [-1.06267322  0.36998476  4.06181875]\n",
      " [-1.00306684  0.36966185  4.05926691]\n",
      " [-0.94207993  0.36929703  4.05658745]\n",
      " [-0.89454681  0.36898053  4.05407612]\n",
      " [-0.83609624  0.36871147  4.0516394 ]\n",
      " [-0.78968524  0.36836159  4.04893423]\n",
      " [-0.74234064  0.36793149  4.04595242]\n",
      " [-0.70772776  0.36753943  4.04310899]] 197.55099988\n"
     ]
    }
   ],
   "source": [
    "v0=np.zeros((100,3))\n",
    "r0=np.zeros((100,3))\n",
    "for k in range(len(r0)):\n",
    "    r0[k]=[94.5 + k*0.1,102.5,54.5]\n",
    "#r0=np.array([[94.5,102.5,54.5],[94.6,102.5,54.5],[94.7,102.5,54.5],[94.8,102.5,54.5]])\n",
    "tstart=time.time()\n",
    "r=trajectories_ions(r0,v0,dt)\n",
    "tend=time.time()\n",
    "print r,tend-tstart"
   ]
  },
  {
   "cell_type": "markdown",
   "metadata": {},
   "source": [
    "### Coulomb interaction influence"
   ]
  },
  {
   "cell_type": "code",
   "execution_count": 79,
   "metadata": {
    "collapsed": false,
    "scrolled": true
   },
   "outputs": [
    {
     "data": {
      "text/plain": [
       "([0.27608091170657961, 0.069906204468793476, 4.4917916905373669],\n",
       " array([ 62.59098621,   0.063188  ,  12.78745611]))"
      ]
     },
     "execution_count": 79,
     "metadata": {},
     "output_type": "execute_result"
    }
   ],
   "source": [
    "#Starting point r0 and initial velocity v0\n",
    "r0=np.array([94.5,102.5,55.5])\n",
    "v0=np.array([0,0,0])\n",
    "[f10,v10]=trajectory2(r0,v0,dt)\n",
    "f10,v10"
   ]
  },
  {
   "cell_type": "code",
   "execution_count": 30,
   "metadata": {
    "collapsed": false
   },
   "outputs": [
    {
     "data": {
      "text/plain": [
       "array([[ 131.54740565,  102.44407167,   69.0841234 ],\n",
       "       [ 131.77244034,  102.44133677,   69.20591509],\n",
       "       [ 131.72223346,  102.44920812,   69.33141989],\n",
       "       [ 132.1394517 ,  102.43629769,   69.25020099],\n",
       "       [ 131.61013551,  102.43943784,   69.32228961],\n",
       "       [ 131.55388635,  102.45427449,   69.08216192],\n",
       "       [ 131.77706633,  102.45223878,   69.20669303],\n",
       "       [ 131.74247704,  102.45757833,   69.33209474],\n",
       "       [ 131.50538754,  102.45078746,   69.17135498],\n",
       "       [ 131.60388686,  102.45260613,   69.32229659],\n",
       "       [ 131.56523307,  102.46440684,   69.08151726],\n",
       "       [ 131.7865429 ,  102.46290623,   69.20826622],\n",
       "       [ 131.77456713,  102.46517897,   69.33357249],\n",
       "       [ 131.51653811,  102.46384088,   69.17109538],\n",
       "       [ 131.62127936,  102.46292881,   69.32171704],\n",
       "       [ 131.57899044,  102.47508141,   69.0822531 ],\n",
       "       [ 131.79813302,  102.47420749,   69.21014075],\n",
       "       [ 131.81168494,  102.47316692,   69.33562721],\n",
       "       [ 131.52995084,  102.47747264,   69.1712735 ],\n",
       "       [ 131.63713524,  102.47339503,   69.32090556],\n",
       "       [ 131.59467404,  102.48831614,   69.08474979],\n",
       "       [ 131.81145732,  102.48860135,   69.21281352],\n",
       "       [ 131.85186284,  102.48325194,   69.33845577],\n",
       "       [ 131.54482955,  102.49370169,   69.1716367 ],\n",
       "       [ 131.65429929,  102.4872239 ,   69.31904506],\n",
       "       [ 131.88006718,  102.44655825,   69.29575028],\n",
       "       [ 131.57224202,  102.44103874,   69.11621215],\n",
       "       [ 131.76787866,  102.44052719,   69.23424763],\n",
       "       [ 131.65191667,  102.44964291,   69.36828429],\n",
       "       [ 132.11776729,  102.43908421,   69.29464149],\n",
       "       [ 131.88818914,  102.45534267,   69.2956437 ],\n",
       "       [ 131.5787475 ,  102.45271898,   69.1151514 ],\n",
       "       [ 131.76127748,  102.45118807,   69.24031259],\n",
       "       [ 131.67180137,  102.45768367,   69.36920041],\n",
       "       [ 132.12413168,  102.450941  ,   69.2948266 ],\n",
       "       [ 131.90224277,  102.46360727,   69.29597864],\n",
       "       [ 131.59019178,  102.46419189,   69.11480315],\n",
       "       [ 131.76906864,  102.46226802,   69.24589233],\n",
       "       [ 131.70336949,  102.46501137,   69.37071084],\n",
       "       [ 132.13545953,  102.46250054,   69.29434628],\n",
       "       [ 131.91923466,  102.47220907,   69.29708366],\n",
       "       [ 131.60405931,  102.47628584,   69.11526098],\n",
       "       [ 131.78122623,  102.47472378,   69.24867692],\n",
       "       [ 131.73982227,  102.47268523,   69.37251454],\n",
       "       [ 131.50798506,  102.47583599,   69.21442063],\n",
       "       [ 131.93861359,  102.4833876 ,   69.29921374],\n",
       "       [ 131.61967353,  102.49134185,   69.11693421],\n",
       "       [ 131.79503815,  102.48993575,   69.25119144],\n",
       "       [ 131.77938814,  102.48226248,   69.37459922],\n",
       "       [ 131.52178249,  102.49110165,   69.21425967],\n",
       "       [ 131.83479162,  102.44362964,   69.19917385],\n",
       "       [ 131.88736312,  102.44579099,   69.32349655],\n",
       "       [ 131.57863218,  102.44026944,   69.15360089],\n",
       "       [ 131.72350792,  102.44132103,   69.29404601],\n",
       "       [ 131.52158534,  102.45152947,   69.40569055],\n",
       "       [ 131.83945086,  102.4534157 ,   69.19858727],\n",
       "       [ 131.89519666,  102.45483583,   69.32377782],\n",
       "       [ 131.5844386 ,  102.45228169,   69.15334239],\n",
       "       [ 131.73177431,  102.4528083 ,   69.29419716],\n",
       "       [ 131.54100084,  102.45887688,   69.4072032 ],\n",
       "       [ 131.8486668 ,  102.4630663 ,   69.19881506],\n",
       "       [ 131.90888338,  102.46323256,   69.32470438],\n",
       "       [ 131.59514666,  102.46426013,   69.15324626],\n",
       "       [ 131.74936406,  102.4620466 ,   69.29119314],\n",
       "       [ 131.57193503,  102.46536865,   69.40876888],\n",
       "       [ 131.86008344,  102.47333463,   69.19982824],\n",
       "       [ 131.925434  ,  102.47208111,   69.32620069],\n",
       "       [ 131.60833231,  102.4768257 ,   69.15362642],\n",
       "       [ 131.75289759,  102.4741468 ,   69.28008874],\n",
       "       [ 131.60771529,  102.47213936,   69.41024669],\n",
       "       [ 131.87332715,  102.48647889,   69.20213219],\n",
       "       [ 131.94451221,  102.48369769,   69.32849069],\n",
       "       [ 131.62348012,  102.49218482,   69.15449549],\n",
       "       [ 131.76330026,  102.48830355,   69.29428064],\n",
       "       [ 131.64666796,  102.48081033,   69.41149111],\n",
       "       [ 131.62355938,  102.44508571,   69.10388727],\n",
       "       [ 131.82811315,  102.44204861,   69.23340555],\n",
       "       [ 131.85422711,  102.44874449,   69.35873812],\n",
       "       [ 131.56608047,  102.44087243,   69.19385935],\n",
       "       [ 131.65859916,  102.44528702,   69.34294397],\n",
       "       [ 131.63009517,  102.45489879,   69.10257808],\n",
       "       [ 131.8325439 ,  102.45248231,   69.23280284],\n",
       "       [ 131.87415211,  102.4558405 ,   69.35954113],\n",
       "       [ 131.57197764,  102.45254872,   69.19418099],\n",
       "       [ 131.66919633,  102.45499856,   69.34419163],\n",
       "       [ 131.64140219,  102.46458634,   69.10221882],\n",
       "       [ 131.84140512,  102.46278492,   69.23295397],\n",
       "       [ 131.89453215,  102.46281441,   69.36080811],\n",
       "       [ 131.58278689,  102.46406815,   69.19441886],\n",
       "       [ 131.68573298,  102.46399112,   69.34420711],\n",
       "       [ 131.65510244,  102.47480944,   69.10292965],\n",
       "       [ 131.85247013,  102.47381919,   69.23393247],\n",
       "       [ 131.91064092,  102.47181669,   69.36241193],\n",
       "       [ 131.59592563,  102.47616124,   69.19460991],\n",
       "       [ 131.70510678,  102.47353473,   69.34304262],\n",
       "       [ 131.67074143,  102.48763365,   69.10522034],\n",
       "       [ 131.86543319,  102.48794129,   69.23605111],\n",
       "       [ 131.92928859,  102.48358466,   69.36461793],\n",
       "       [ 131.61093101,  102.49107333,   69.19485611],\n",
       "       [ 131.72698207,  102.48610834,   69.34010057],\n",
       "       [ 131.95581035,  102.4468003 ,   69.3171678 ],\n",
       "       [ 131.64315802,  102.44327399,   69.13795515],\n",
       "       [ 131.80780557,  102.44195114,   69.2743472 ],\n",
       "       [ 131.76585086,  102.44978457,   69.39636056],\n",
       "       [ 131.53946866,  102.44352793,   69.2372931 ],\n",
       "       [ 131.96412598,  102.45551217,   69.31721257],\n",
       "       [ 131.64948319,  102.45390613,   69.1372902 ],\n",
       "       [ 131.81215874,  102.45247214,   69.27475997],\n",
       "       [ 131.78592578,  102.45783126,   69.39733485],\n",
       "       [ 131.54571253,  102.45373208,   69.23864802],\n",
       "       [ 131.97829797,  102.46369621,   69.3177252 ],\n",
       "       [ 131.66049426,  102.46435501,   69.13706727],\n",
       "       [ 131.82089423,  102.46287333,   69.27552804],\n",
       "       [ 131.81751823,  102.4652176 ,   69.39891876],\n",
       "       [ 131.55596587,  102.46381784,   69.23884824],\n",
       "       [ 131.99535553,  102.47224586,   69.31900454],\n",
       "       [ 131.67390973,  102.47544202,   69.13767865],\n",
       "       [ 131.83168164,  102.47390223,   69.27637065],\n",
       "       [ 131.85394519,  102.47301798,   69.40079467],\n",
       "       [ 131.56804841,  102.47465102,   69.23913283],\n",
       "       [ 132.01480504,  102.48339518,   69.32132535],\n",
       "       [ 131.68918386,  102.48948926,   69.13923847],\n",
       "       [ 131.84432907,  102.48800107,   69.27719851],\n",
       "       [ 131.89356901,  102.48279962,   69.40299395],\n",
       "       [ 131.58239089,  102.48830165,   69.23861848],\n",
       "       [ 131.88821071,  102.44450186,   69.22207005],\n",
       "       [ 131.95716792,  102.44612602,   69.34910026],\n",
       "       [ 131.64311101,  102.44317914,   69.17691555],\n",
       "       [ 131.78662904,  102.4432419 ,   69.30814817],\n",
       "       [ 131.62159654,  102.45176006,   69.43319508],\n",
       "       [ 131.89282585,  102.45389433,   69.22115595],\n",
       "       [ 131.96520112,  102.45502916,   69.34931818],\n",
       "       [ 131.64904784,  102.45391086,   69.17691861],\n",
       "       [ 131.778072  ,  102.45421799,   69.30506243],\n",
       "       [ 131.64120794,  102.45908238,   69.43472261],\n",
       "       [ 131.90186232,  102.46310581,   69.22090959],\n",
       "       [ 131.97908669,  102.46338506,   69.35017282],\n",
       "       [ 131.65990561,  102.46452001,   69.17708585],\n",
       "       [ 131.78772491,  102.46350116,   69.31725923],\n",
       "       [ 131.6722266 ,  102.46558993,   69.43629335],\n",
       "       [ 131.91308438,  102.472946  ,   69.22148023],\n",
       "       [ 131.99581304,  102.47220384,   69.3517259 ],\n",
       "       [ 131.67321466,  102.47573549,   69.17764989],\n",
       "       [ 131.80246314,  102.47360779,   69.31826375],\n",
       "       [ 131.70810568,  102.47245024,   69.43772896],\n",
       "       [ 131.92615005,  102.48570319,   69.22335219],\n",
       "       [ 132.01502594,  102.48375433,   69.35412882],\n",
       "       [ 131.68861495,  102.48971159,   69.17866301],\n",
       "       [ 131.81874196,  102.48675494,   69.31804666],\n",
       "       [ 131.74732331,  102.4811413 ,   69.4390006 ],\n",
       "       [ 131.69322933,  102.44668294,   69.12657208],\n",
       "       [ 131.87733172,  102.44356951,   69.2597595 ],\n",
       "       [ 131.93712919,  102.4459126 ,   69.38638238],\n",
       "       [ 131.62647834,  102.44386986,   69.21734025],\n",
       "       [ 131.74079581,  102.44750595,   69.36473461],\n",
       "       [ 131.69999143,  102.45583665,   69.12579551],\n",
       "       [ 131.88179965,  102.45323156,   69.2597182 ],\n",
       "       [ 131.94493012,  102.4547832 ,   69.38688302],\n",
       "       [ 131.63266415,  102.45417572,   69.21770831],\n",
       "       [ 131.75133927,  102.45614203,   69.36587827],\n",
       "       [ 131.71146343,  102.46473688,   69.1255878 ],\n",
       "       [ 131.89054468,  102.46275678,   69.25999232],\n",
       "       [ 131.95843479,  102.46310623,   69.38801753],\n",
       "       [ 131.64363455,  102.46420205,   69.21796367],\n",
       "       [ 131.7682012 ,  102.46348439,   69.3659524 ],\n",
       "       [ 131.72529578,  102.47416109,   69.12618712],\n",
       "       [ 131.90128765,  102.47308913,   69.26072425],\n",
       "       [ 131.97479854,  102.47197272,   69.38960791],\n",
       "       [ 131.65690202,  102.47483918,   69.21822174],\n",
       "       [ 131.78347258,  102.47216498,   69.36520313],\n",
       "       [ 131.74104924,  102.48626734,   69.1280554 ],\n",
       "       [ 131.91386052,  102.48653411,   69.26189159],\n",
       "       [ 131.99368281,  102.48361735,   69.39185379],\n",
       "       [ 131.67202451,  102.48837867,   69.21847942],\n",
       "       [ 131.79952438,  102.48417317,   69.36322468],\n",
       "       [ 132.0247639 ,  102.44730495,   69.34069087],\n",
       "       [ 131.70651055,  102.4461114 ,   69.16212659],\n",
       "       [ 131.85213846,  102.44432062,   69.29986676],\n",
       "       [ 131.8620249 ,  102.45012912,   69.4246175 ],\n",
       "       [ 131.59235035,  102.44678116,   69.25939355],\n",
       "       [ 132.0333471 ,  102.45584606,   69.34095185],\n",
       "       [ 131.71309912,  102.45549141,   69.1619039 ],\n",
       "       [ 131.85644439,  102.453785  ,   69.30000913],\n",
       "       [ 131.88224008,  102.45785833,   69.42576403],\n",
       "       [ 131.59868942,  102.45565635,   69.26060434],\n",
       "       [ 132.04770023,  102.46382276,   69.34171235],\n",
       "       [ 131.72440606,  102.46462849,   69.16194577],\n",
       "       [ 131.86514917,  102.46323404,   69.30021724],\n",
       "       [ 131.91335608,  102.4634955 ,   69.42743258],\n",
       "       [ 131.60960979,  102.4642391 ,   69.26122019],\n",
       "       [ 132.06487211,  102.47213836,   69.34323564],\n",
       "       [ 131.73805605,  102.47436592,   69.16260152],\n",
       "       [ 131.87685671,  102.47338825,   69.30050363],\n",
       "       [ 131.93348943,  102.47109671,   69.42873975],\n",
       "       [ 131.62255137,  102.47339086,   69.26110329],\n",
       "       [ 132.08438432,  102.48302813,   69.34577083],\n",
       "       [ 131.75365758,  102.48692312,   69.16400501],\n",
       "       [ 131.89333603,  102.4858352 ,   69.30074326],\n",
       "       [ 131.95169794,  102.4823318 ,   69.43022291],\n",
       "       [ 131.63766433,  102.48562871,   69.26045301],\n",
       "       [ 131.93700079,  102.44609492,   69.24621224],\n",
       "       [ 132.02152728,  102.44687692,   69.37562586],\n",
       "       [ 131.70355953,  102.44642935,   69.20064179],\n",
       "       [ 131.83305223,  102.44595653,   69.33268103],\n",
       "       [ 131.70499675,  102.45221594,   69.46025457],\n",
       "       [ 131.94183592,  102.45473713,   69.24564969],\n",
       "       [ 132.02993959,  102.45546409,   69.37605593],\n",
       "       [ 131.71001263,  102.45564524,   69.20062225],\n",
       "       [ 131.83935015,  102.45500093,   69.33604463],\n",
       "       [ 131.72496304,  102.45939888,   69.46179427],\n",
       "       [ 131.95100032,  102.46304708,   69.24545392],\n",
       "       [ 132.04409149,  102.46344121,   69.37712496],\n",
       "       [ 131.72132716,  102.46454118,   69.20086368],\n",
       "       [ 131.85121254,  102.46352044,   69.33669307],\n",
       "       [ 131.75631118,  102.46573982,   69.46341307],\n",
       "       [ 131.96224611,  102.47195954,   69.24587518],\n",
       "       [ 132.06099789,  102.47182189,   69.37888256],\n",
       "       [ 131.73497707,  102.47399618,   69.20149239],\n",
       "       [ 131.86560461,  102.47251785,   69.33699282],\n",
       "       [ 131.79254869,  102.4722652 ,   69.46499877],\n",
       "       [ 131.97518632,  102.48385778,   69.24733329],\n",
       "       [ 132.08024732,  102.48287283,   69.38146043],\n",
       "       [ 131.75055905,  102.48624648,   69.20261312],\n",
       "       [ 131.88217711,  102.4845133 ,   69.3375292 ],\n",
       "       [ 131.83190352,  102.48051102,   69.46640488],\n",
       "       [ 131.75744571,  102.44934099,   69.15223109],\n",
       "       [ 131.92284589,  102.4465545 ,   69.28562957],\n",
       "       [ 131.99454997,  102.44720426,   69.41408501],\n",
       "       [ 131.68114734,  102.44748905,   69.24009786],\n",
       "       [ 131.80774801,  102.44841597,   69.38543116],\n",
       "       [ 131.76473001,  102.45725923,   69.15222137],\n",
       "       [ 131.92763735,  102.4547958 ,   69.28574389],\n",
       "       [ 132.00292963,  102.45555541,   69.41471696],\n",
       "       [ 131.68784183,  102.45605323,   69.24027316],\n",
       "       [ 131.8146841 ,  102.45620745,   69.38606775],\n",
       "       [ 131.77654365,  102.46476167,   69.15230788],\n",
       "       [ 131.93658124,  102.46275185,   69.28574126],\n",
       "       [ 132.016944  ,  102.46320548,   69.41591847],\n",
       "       [ 131.69923544,  102.46419561,   69.2404523 ],\n",
       "       [ 131.82623332,  102.46338376,   69.38589708],\n",
       "       [ 131.79060259,  102.47272081,   69.15285013],\n",
       "       [ 131.94756941,  102.47133086,   69.28603741],\n",
       "       [ 132.03361881,  102.4712616 ,   69.41758844],\n",
       "       [ 131.71276744,  102.47282035,   69.24081203],\n",
       "       [ 131.83995725,  102.47108397,   69.38523148],\n",
       "       [ 131.80646297,  102.48339042,   69.15414197],\n",
       "       [ 131.96022356,  102.48294108,   69.28669798],\n",
       "       [ 132.05248804,  102.48202798,   69.41981195],\n",
       "       [ 131.72803675,  102.48422962,   69.24141007],\n",
       "       [ 131.85550972,  102.48171255,   69.38392249],\n",
       "       [ 132.09003552,  102.44977605,   69.37025447],\n",
       "       [ 131.76741263,  102.45052538,   69.18985621],\n",
       "       [ 131.90974333,  102.44946793,   69.32679878],\n",
       "       [ 131.94357137,  102.45057265,   69.45301049],\n",
       "       [ 131.64123865,  102.4499833 ,   69.28013947],\n",
       "       [ 132.09946271,  102.45698206,   69.37159046],\n",
       "       [ 131.77487393,  102.45768769,   69.19062223],\n",
       "       [ 131.91741916,  102.45671842,   69.32714829],\n",
       "       [ 131.95663676,  102.45648069,   69.45420322],\n",
       "       [ 131.64820085,  102.45745998,   69.28087852],\n",
       "       [ 132.11392378,  102.46335239,   69.37308391],\n",
       "       [ 131.78659276,  102.46421776,   69.19115498],\n",
       "       [ 131.92934745,  102.46331389,   69.32733224],\n",
       "       [ 131.9704396 ,  102.46295335,   69.45532642],\n",
       "       [ 131.65939506,  102.46422738,   69.28088063],\n",
       "       [ 131.50412777,  102.47111501,   69.29380054],\n",
       "       [ 131.80029241,  102.47128171,   69.19169029],\n",
       "       [ 131.94350714,  102.47040403,   69.32662574],\n",
       "       [ 131.98662561,  102.46987734,   69.45644089],\n",
       "       [ 131.67257036,  102.47154255,   69.28114059],\n",
       "       [ 131.52244875,  102.48068648,   69.29490703],\n",
       "       [ 131.81558141,  102.48135568,   69.1923333 ],\n",
       "       [ 131.95931537,  102.48060882,   69.3262181 ],\n",
       "       [ 132.00475811,  102.47976256,   69.45753623],\n",
       "       [ 131.68794598,  102.48173373,   69.28092512]])"
      ]
     },
     "execution_count": 30,
     "metadata": {},
     "output_type": "execute_result"
    }
   ],
   "source": [
    "startpoints"
   ]
  },
  {
   "cell_type": "code",
   "execution_count": 228,
   "metadata": {
    "collapsed": false
   },
   "outputs": [
    {
     "name": "stdout",
     "output_type": "stream",
     "text": [
      "[ 94.45   94.455  94.46   94.465  94.47   94.475  94.48   94.485  94.49\n",
      "  94.495  94.5    94.505  94.51   94.515  94.52   94.525  94.53   94.535\n",
      "  94.54   94.545  94.55 ]\n",
      "[ 102.49   102.495  102.5    102.505  102.51 ]\n",
      "[ 55.49   55.495  55.5    55.505  55.51 ]\n"
     ]
    }
   ],
   "source": [
    "xc=np.linspace(94.5 - 0.05,94.5 + 0.05,21)\n",
    "yc=np.linspace(102.5 - 0.01,102.5 + 0.01,5)\n",
    "zc=np.linspace(55.5 - 0.01,55.5 + 0.01,5)\n",
    "print xc\n",
    "print yc\n",
    "print zc"
   ]
  },
  {
   "cell_type": "code",
   "execution_count": 40,
   "metadata": {
    "collapsed": true
   },
   "outputs": [],
   "source": [
    "r0=np.array([102.5,102.5,65.])\n",
    "v0=np.array([0.,0.,0.])"
   ]
  },
  {
   "cell_type": "code",
   "execution_count": null,
   "metadata": {
    "collapsed": true
   },
   "outputs": [],
   "source": []
  }
 ],
 "metadata": {
  "anaconda-cloud": {},
  "kernelspec": {
   "display_name": "Python [conda root]",
   "language": "python",
   "name": "conda-root-py"
  },
  "language_info": {
   "codemirror_mode": {
    "name": "ipython",
    "version": 3
   },
   "file_extension": ".py",
   "mimetype": "text/x-python",
   "name": "python",
   "nbconvert_exporter": "python",
   "pygments_lexer": "ipython3",
   "version": "3.5.2"
  }
 },
 "nbformat": 4,
 "nbformat_minor": 0
}
