{
 "cells": [
  {
   "cell_type": "markdown",
   "metadata": {},
   "source": [
    "<span style = \"color: red\"> \n",
    "I tried 3 things to improve the performance of the simulation speed. \n",
    "</span>\n",
    "\n",
    "1. Apply Numba jit decorator to simple functions. The jit decorator tells python to compile the function instead of interpreting the code in Python interpreter. \n",
    "2. Change electric field interpolation function. Original I used Trilinear interpolation RegularGridInterpolator from package SciPy.Interpolate, which turned to account for 90% time of one iteration loop. Now the new linear interpolation method LinearSpline from a package Interpolation (https://github.com/EconForge/interpolation.py) is used. It's more than 10 times faster than RegularGridInterpolator, and the computed value has very little difference.\n",
    "3. I also tried to use the Cython package, which can transform the code into C/C++ code and compile it and call the function like package. But I failed because I don't know how to do integrate the interpolation function in Python into C code. "
   ]
  },
  {
   "cell_type": "markdown",
   "metadata": {},
   "source": [
    "### Import potentials data in grid points and coordinates from HDF5 file"
   ]
  },
  {
   "cell_type": "code",
   "execution_count": 1,
   "metadata": {
    "collapsed": false
   },
   "outputs": [],
   "source": [
    "import h5py\n",
    "import numpy as np\n",
    "\n",
    "import matplotlib.pyplot as plt\n",
    "from numba import jit\n",
    "import time\n",
    "# Change interpolation method , https://github.com/EconForge/interpolation.py\n",
    "from interpolation.splines import LinearSpline, CubicSplines "
   ]
  },
  {
   "cell_type": "code",
   "execution_count": 2,
   "metadata": {
    "collapsed": false
   },
   "outputs": [],
   "source": [
    "#Potential field are stored in a HDF5 file\n",
    "f=h5py.File('PA_v4.hdf5','r')"
   ]
  },
  {
   "cell_type": "code",
   "execution_count": 3,
   "metadata": {
    "collapsed": false
   },
   "outputs": [],
   "source": [
    "#coordinates x,y,z in unit of mm\n",
    "x=f[\"Coordinates/X\"].value/2.\n",
    "y=f[\"Coordinates/Y\"].value/2.\n",
    "z=f[\"Coordinates/Z\"].value/2."
   ]
  },
  {
   "cell_type": "markdown",
   "metadata": {},
   "source": [
    "### Set electrodes potentials and calculate spatial potential values\n",
    "19 electrodes are set to certain potentials to create electric field to ionize Rydberg atoms"
   ]
  },
  {
   "cell_type": "markdown",
   "metadata": {},
   "source": [
    "Among the 19 values in the list <span style = \"color: red\"> electrode_set_potentials </span>, the important ones are: "
   ]
  },
  {
   "cell_type": "markdown",
   "metadata": {},
   "source": [
    " *electrode_set_potentials* index  | Electrode name | Value |\n",
    "  ------------- | ------------- |-------------\n",
    "  0  | $f_{1}$ under | 195\n",
    "  1  | $f_{4}$ under | 195\n",
    "  2  | $f_{1}$ above | -145\n",
    "  3  | $f_{4}$ above | -232\n",
    "  4  | MCP cage    | -0.114\n",
    "  5  | MCP out     | -1900\n",
    "  6  | Chamber     | 0\n",
    "  7  | CEM cage    | 4\n",
    "  8  | deflection ring 1 | 0.3\n",
    "  9  | deflection ring 2 | -232\n",
    "  10 | $f_{2}$ under | 195\n",
    "  11 | $f_{3}$ under | 195\n",
    "  12 | $f_{2}$ above | -145\n",
    "  13 | $f_{3}$ above | -232\n",
    "  \n",
    "  The rest are related to the detectors readout and are in low values."
   ]
  },
  {
   "cell_type": "code",
   "execution_count": 4,
   "metadata": {
    "collapsed": false
   },
   "outputs": [],
   "source": [
    "#set values of 19 electrodes, for ionization field of state n=30\n",
    "#electrode_set_potentials=[187.*1.2,187.*1.2,-1.74,-278.*1.2,-0.114*1.2,-1900.,0.,3.97*1.2,-1.74*1.2,-278.*1.2,187.*1.2,187.*1.2,0.3*1.2,-278.*1.2,0.,0.,0.,0.318*1.2,0.307*1.2];\n",
    "electrode_set_potentials=[195.,195.,-145.,-232.,-0.114,-1900.,0.,4.,0.3,-232.,195.,195.,-145.,-232.,0.,0.,0.,0.318,0.307];\n",
    "electrode_set_potentials[9]=-250.\n",
    "#electrode_set_potentials=[195.,195.,-150.,-545.,-0.114,-1900.,0.,4.,0.3,-545.,430.,430.,-150.,-545.,0.,0.,0.,0.318,0.307];"
   ]
  },
  {
   "cell_type": "code",
   "execution_count": 5,
   "metadata": {
    "collapsed": false
   },
   "outputs": [],
   "source": [
    "# generate potential by setting each electrode to its potential and adding up all electrodes' potential\n",
    "potentials=np.zeros((len(x),len(y),len(z)))\n",
    "for i in range(19):\n",
    "    electroden=f[\"Potential Arrays/electrode\"+str(i+1)].value\n",
    "    potentials+=electrode_set_potentials[i]*electroden/10000."
   ]
  },
  {
   "cell_type": "markdown",
   "metadata": {},
   "source": [
    "### Interpolate potential arrays"
   ]
  },
  {
   "cell_type": "code",
   "execution_count": 6,
   "metadata": {
    "collapsed": false
   },
   "outputs": [],
   "source": [
    "#generate potential interpolation\n",
    "\n",
    "from scipy.interpolate import RegularGridInterpolator as rgi\n",
    "p_interpolation=rgi((x,y,z),potentials)"
   ]
  },
  {
   "cell_type": "code",
   "execution_count": 7,
   "metadata": {
    "collapsed": false,
    "scrolled": true
   },
   "outputs": [
    {
     "name": "stdout",
     "output_type": "stream",
     "text": [
      "Setting\n",
      "[121 121 173]\n",
      "(121, 121, 173)\n"
     ]
    }
   ],
   "source": [
    "minlimit = [min(x), min(y), min(z)]\n",
    "maxlimit = [max(x), max(y), max(z)]\n",
    "orders = [len(x), len(y), len(z)]\n",
    "p_interpolation2 = LinearSpline(minlimit, maxlimit, orders, potentials)"
   ]
  },
  {
   "cell_type": "markdown",
   "metadata": {},
   "source": [
    "##### Compare two different interpolation method\n",
    "\n",
    "LinearSpline are 10 times faster and the interpolated value are same with RegularGridInterpolator"
   ]
  },
  {
   "cell_type": "code",
   "execution_count": 8,
   "metadata": {
    "collapsed": false
   },
   "outputs": [
    {
     "name": "stdout",
     "output_type": "stream",
     "text": [
      "10000 loops, best of 3: 148 µs per loop\n"
     ]
    }
   ],
   "source": [
    "%timeit p_interpolation(np.array([102.5,102.5,65.]))[0]"
   ]
  },
  {
   "cell_type": "code",
   "execution_count": 9,
   "metadata": {
    "collapsed": false
   },
   "outputs": [
    {
     "name": "stdout",
     "output_type": "stream",
     "text": [
      "The slowest run took 2840.22 times longer than the fastest. This could mean that an intermediate result is being cached.\n",
      "100000 loops, best of 3: 8.83 µs per loop\n"
     ]
    }
   ],
   "source": [
    "%timeit p_interpolation2(np.array([102.5,102.5,65.]))"
   ]
  },
  {
   "cell_type": "code",
   "execution_count": 10,
   "metadata": {
    "collapsed": false
   },
   "outputs": [],
   "source": [
    "dz = np.linspace(0,30,31)\n",
    "zcrd = [[102.5, 102.5, 65.0 + i] for i in dz]\n",
    "p1 = np.array([p_interpolation(np.array(zcrd[j]))[0] for j in range(len(zcrd))])\n",
    "p2 = np.array([p_interpolation2(np.array(zcrd[j])) for j in range(len(zcrd))])"
   ]
  },
  {
   "cell_type": "code",
   "execution_count": 11,
   "metadata": {
    "collapsed": false
   },
   "outputs": [
    {
     "data": {
      "image/png": "[encoded data removed]",
      "text/plain": [
       "<matplotlib.figure.Figure at 0xc752ef0>"
      ]
     },
     "metadata": {},
     "output_type": "display_data"
    }
   ],
   "source": [
    "import matplotlib.pyplot as plt\n",
    "plt.plot(dz, p2-p1,label = \"p2 - p1\")\n",
    "plt.plot(dz, p1, label = \"p1\")\n",
    "plt.plot(dz, p2, label = \"p2\")\n",
    "plt.legend()\n",
    "plt.show()"
   ]
  },
  {
   "cell_type": "markdown",
   "metadata": {},
   "source": [
    "Define velocity iteration function and trajectory iteration function for single ion.\n",
    "\n",
    "MCP detector plane"
   ]
  },
  {
   "cell_type": "code",
   "execution_count": 12,
   "metadata": {
    "collapsed": false
   },
   "outputs": [],
   "source": [
    "phi=-82.*np.pi/180.\n",
    "tmatrix=np.array([[np.cos(phi),0,-np.sin(phi)],\n",
    "           [0,1,0],\n",
    "           [np.sin(phi),0,np.cos(phi)]])"
   ]
  },
  {
   "cell_type": "code",
   "execution_count": 13,
   "metadata": {
    "collapsed": false,
    "scrolled": true
   },
   "outputs": [],
   "source": [
    "#center point of MCP plane\n",
    "center=(tmatrix.dot(np.array([0.,0.,3.]))*2 + [247,205,214])/2\n",
    "#c=(241+6*np.cos(phi) + np.tan(- phi)*(247 + 6*np.sin( - phi)))/2.\n",
    "c=center[2] + np.tan(- phi)* center[0]\n",
    "#center, c"
   ]
  },
  {
   "cell_type": "markdown",
   "metadata": {},
   "source": [
    "#### Functions used to simulate ion dynamics"
   ]
  },
  {
   "cell_type": "code",
   "execution_count": 14,
   "metadata": {
    "collapsed": false
   },
   "outputs": [],
   "source": [
    "#single ion's position and velocity iteration functions\n",
    "\n",
    "@jit\n",
    "def R(ri,vi,dt):                  #delta_t in unit of micro-second, displacement in unit of mm, v in unit of mm/us\n",
    "    \"\"\"\n",
    "    R() calculate ion's position of next time step based on current position and velocity\n",
    "    \"\"\"\n",
    "    x_new=ri[0]+vi[0]*dt\n",
    "    y_new=ri[1]+vi[1]*dt\n",
    "    z_new=ri[2]+vi[2]*dt\n",
    "    return np.array([x_new,y_new,z_new])\n",
    "\n",
    "@jit\n",
    "def Gradientforce(ri,vi,delta_t,dr):\n",
    "    \"\"\"\n",
    "    Gradiencforce() calculate force on ion from electrodes potential field.\n",
    "    It returns the new velocity of ion, by adding acceleration in a small time step to the temporary velocity\n",
    "    \"\"\"\n",
    "    dvx=-100./(1.0364*87.) * (p_interpolation([ri[0]+dr,ri[1],ri[2]])[0]-p_interpolation([ri[0]-dr,ri[1],ri[2]])[0])/(dr*2)\n",
    "    dvy=-100./(1.0364*87.) * (p_interpolation([ri[0],ri[1]+dr,ri[2]])[0]-p_interpolation([ri[0],ri[1]-dr,ri[2]])[0])/(dr*2)\n",
    "    dvz=-100./(1.0364*87.) * (p_interpolation([ri[0],ri[1],ri[2]+dr])[0]-p_interpolation([ri[0],ri[1],ri[2]-dr])[0])/(dr*2)\n",
    "    vx_new=vi[0]+dvx * dt\n",
    "    vy_new=vi[1]+dvy * dt\n",
    "    vz_new=vi[2]+dvz * dt\n",
    "    return np.array([vx_new,vy_new,vz_new])\n",
    "\n",
    "def Gradientforce2(r,v,dt,dr):  \n",
    "    \"\"\"\n",
    "    Gradientforce2() functions the same as Gradientforce(), but with faster interpolation method of electric field\n",
    "    Gradiencforce2() calculate force on ion from electrodes potential field.\n",
    "    It returns the new velocity of ion, by adding acceleration in a small time step to the temporary velocity\n",
    "    \"\"\"\n",
    "    rx1 = np.array([r[0]+dr,r[1],r[2]])\n",
    "    rx2 = np.array([r[0]-dr,r[1],r[2]])\n",
    "    ry1 = np.array([r[0],r[1]+dr,r[2]])\n",
    "    ry2 = np.array([r[0],r[1]-dr,r[2]])\n",
    "    rz1 = np.array([r[0],r[1],r[2]+dr])\n",
    "    rz2 = np.array([r[0],r[1],r[2]-dr])\n",
    "    dvx=-100./(1.0364*87.) * (p_interpolation2(rx1)-p_interpolation2(rx2))/(dr*2) #- for positive ions\n",
    "    dvy=-100./(1.0364*87.) * (p_interpolation2(ry1)-p_interpolation2(ry2))/(dr*2)\n",
    "    dvz=-100./(1.0364*87.) * (p_interpolation2(rz1)-p_interpolation2(rz2))/(dr*2)\n",
    "    vx_new=v[0]+dvx * dt\n",
    "    vy_new=v[1]+dvy * dt\n",
    "    vz_new=v[2]+dvz * dt\n",
    "    return np.array([vx_new,vy_new,vz_new])\n",
    "\n",
    "\n",
    "#@jit\n",
    "def ion_exist(r):\n",
    "    \"\"\"\n",
    "    Given positions of ions, ion_exist tells if the ions reaches the detector plane and electrodes or not.\n",
    "    It returns the iterabilities of ions, with 0 meaning ions uniterable and 1 meaning ions still iterable.\n",
    "    \"\"\"\n",
    "    ion_number=len(r)\n",
    "    ion_condition=[0 for i in range(ion_number)]\n",
    "    for j in range(ion_number):\n",
    "        r_ionj=r[j]\n",
    "        ion_condition[j]=(r_ionj>[x[1],y[1],z[1]]).all() and (r_ionj<[x[-3],y[-3],z[-3]]).all() and (r_ionj[2]-np.tan(phi)*r_ionj[0]<=c)\n",
    "        \n",
    "    return ion_condition\n",
    "\n",
    "\"\"\"\n",
    "#Function to calculate two ions coulombic force\n",
    "def VCoul(ra,rb):\n",
    "    #coulombic acceleration of Rb ion at ra, due to repulsion of Rb ion at rb\n",
    "    distance=np.linalg.norm(ra-rb)\n",
    "    coulf=1.595 * 1.e-6 /distance**2\n",
    "    return (ra-rb)*coulf/distance\n",
    "\"\"\"\n",
    "    \n",
    "@jit\n",
    "def VCoul(index,r_iter,ion_condition):\n",
    "    \"\"\"\n",
    "    VCoul() calculate Coulumbic force to the indexed ion from the rest existing ions.\n",
    "    \"\"\"\n",
    "    r_origin=r_iter[index]\n",
    "    ion_number=len(r_iter)\n",
    "    force=np.zeros((1,3))\n",
    "    for i in range(ion_number):\n",
    "        if (i!=index and ion_condition[i]):\n",
    "            distance=np.linalg.norm(r_origin - r_iter[i])\n",
    "            coulf=1.595 * 1.e-6 / distance**2\n",
    "            force += (r_origin - r_iter[i]) * coulf/distance\n",
    "    return force[0]\n",
    "    \n",
    "    \n",
    "@jit\n",
    "def cross_ratio(r_n,r_iter,count,dt):\n",
    "    \"\"\"\n",
    "    The last position of ion is usually beyond the limit of the detector plane. \n",
    "    To have more precise position and arrival time of the ion, \n",
    "    cross_ration calculate the intersetion of the line formed by the last and second last position, and the detector plane,\n",
    "    and the intersection point is considered as the arrival position. \n",
    "    The arrival time of ion is also calibrated.\n",
    "    \"\"\"\n",
    "    x1=r_n[0]\n",
    "    z1=r_n[2]\n",
    "    x2=r_iter[0]\n",
    "    z2=r_iter[2]\n",
    "    a=np.array([[np.tan(-phi),1.],[(z2-z1)/(x1-x2),1]])\n",
    "    b=np.array([c,(x1*z2-x2*z1)/(x1-x2)])\n",
    "    \n",
    "    r_p= np.linalg.solve(a,b)\n",
    "    ratio=(r_p[0]-r_n[0])/(r_iter[0]-r_n[0])\n",
    "    count += ratio\n",
    "    y_p= r_n[1] +(r_iter[1]-r_n[1])*ratio\n",
    "    t=count*dt\n",
    "    r_new= np.array([np.sign(r_p[1]-center[2]) * np.sqrt((r_p[0]-center[0])**2 + (r_p[1]-center[2])**2),y_p-center[1],t])\n",
    "    return r_new\n"
   ]
  },
  {
   "cell_type": "code",
   "execution_count": 15,
   "metadata": {
    "collapsed": false,
    "scrolled": true
   },
   "outputs": [],
   "source": [
    "dr=0.5       #dr[mm] is used when calculating gradients\n",
    "dt=0.01     #dt[us]"
   ]
  },
  {
   "cell_type": "code",
   "execution_count": 16,
   "metadata": {
    "collapsed": false,
    "scrolled": true
   },
   "outputs": [
    {
     "name": "stdout",
     "output_type": "stream",
     "text": [
      "The slowest run took 414.87 times longer than the fastest. This could mean that an intermediate result is being cached.\n",
      "1 loop, best of 3: 930 µs per loop\n",
      "10000 loops, best of 3: 60.5 µs per loop\n"
     ]
    }
   ],
   "source": [
    "%timeit Gradientforce(np.array([102.5,102.5,65.]),np.array([0.,0.,0.]),dt,dr)\n",
    "%timeit Gradientforce2(np.array([102.5,102.5,65.]),np.array([0.,0.,0.]),dt,dr)"
   ]
  },
  {
   "cell_type": "code",
   "execution_count": 17,
   "metadata": {
    "collapsed": false
   },
   "outputs": [],
   "source": [
    "def trajectories_ions(r_init,v_init,dt):\n",
    "    \"\"\"\n",
    "    trajectories_ions() iterate all ions in tune, given initial ions' positions and initial velocities all being 0.\n",
    "    In each time step, the velocities are calculated considering both gradient force of electric field and Coulumbic force from other ions.\n",
    "    Then the new position is calculated.\n",
    "    After all ions have reached detector, \n",
    "    \"\"\"\n",
    "    ion_number=len(r_init)\n",
    "    count=np.zeros(ion_number)\n",
    "    r_iter=np.zeros((ion_number,3))\n",
    "    r_n=np.zeros((ion_number,3))\n",
    "    r_iter=r_init\n",
    "    v_iter=v_init\n",
    "    r_n=np.zeros((ion_number,3))\n",
    "    \n",
    "    #no appending?\n",
    "    global condition\n",
    "    condition = ion_exist(r_iter)\n",
    "    sequence=[k for k in range(ion_number)]\n",
    "    while any(condition):\n",
    "        # while loop condition: ion still in effective volume, and not hit the plane\n",
    "        \"\"\"if iondistance<0.01:\n",
    "            dt=0.0001\n",
    "        else:\n",
    "            dt=0.01\"\"\"\n",
    "        for i in sequence:\n",
    "            if condition[i]:\n",
    "                r_n[i]=np.array(r_iter[i])\n",
    "                v_iter[i] = Gradientforce2(r_iter[i],v_iter[i],dt,dr) + VCoul(i,r_iter,condition) * dt\n",
    "                r_iter[i]=R(r_iter[i],v_iter[i],dt)\n",
    "                count[i] += 1\n",
    "        if max(count * dt)>15:\n",
    "            break\n",
    "        condition=ion_exist(r_iter)\n",
    "        #print(r_iter[0])\n",
    "        \n",
    "    #map coordinates into detector plane coordinate\n",
    "    r_final=np.zeros((ion_number,3))\n",
    "    for k in range(ion_number):\n",
    "        r_final[k]=cross_ratio(r_n[k],r_iter[k],count[k],dt)\n",
    "    v_final=v_iter\n",
    "    #print r_final\n",
    "    #displacement=np.array(r_new1) - np.array(r_new2)\n",
    "    ionsituation=np.concatenate((r_final,v_final),axis=1)\n",
    "    #print(r_final)\n",
    "    return r_final"
   ]
  },
  {
   "cell_type": "markdown",
   "metadata": {},
   "source": [
    "##### Initial ions positions in a grid"
   ]
  },
  {
   "cell_type": "code",
   "execution_count": 18,
   "metadata": {
    "collapsed": false
   },
   "outputs": [
    {
     "name": "stdout",
     "output_type": "stream",
     "text": [
      "0.0009999275207519531\n",
      "275\n"
     ]
    }
   ],
   "source": [
    "# 96.8  102.5   66.\n",
    "#96.9,102.5,66.05\n",
    "xc=np.linspace(96.9 - 0.05,96.9 + 0.05,11)\n",
    "yc=np.linspace(102.5 - 0.01,102.5 + 0.01,5)\n",
    "zc=np.linspace(66.05 - 0.01,66.05 + 0.01,5)\n",
    "startpoints=np.zeros((len(xc)*len(yc)*len(zc),3))\n",
    "finalpoints=np.zeros((len(xc)*len(yc)*len(zc),3))\n",
    "v=np.zeros((len(xc)*len(yc)*len(zc),3))\n",
    "ind=0\n",
    "tstart=time.time()\n",
    "for i in xc:\n",
    "    for j in yc:\n",
    "        for k in zc:\n",
    "            startpoints[ind]=np.array([i,j,k])\n",
    "            ind += 1\n",
    "\n",
    "tend=time.time()\n",
    "print(tend-tstart)\n",
    "print(len(startpoints))"
   ]
  },
  {
   "cell_type": "code",
   "execution_count": 19,
   "metadata": {
    "collapsed": true
   },
   "outputs": [],
   "source": [
    "ionfinalpoints=np.zeros((len(startpoints),3))\n",
    "v=np.zeros((len(startpoints),3))"
   ]
  },
  {
   "cell_type": "code",
   "execution_count": 20,
   "metadata": {
    "collapsed": false
   },
   "outputs": [
    {
     "name": "stdout",
     "output_type": "stream",
     "text": [
      "Total running time is 34.26900005340576 s\n"
     ]
    }
   ],
   "source": [
    "tstart2=time.time()\n",
    "ionfinalpoints=trajectories_ions(startpoints,v,dt)\n",
    "tend2=time.time()\n",
    "print(\"Total running time is\", tend2-tstart2,'s')"
   ]
  },
  {
   "cell_type": "code",
   "execution_count": 21,
   "metadata": {
    "collapsed": false,
    "scrolled": true
   },
   "outputs": [],
   "source": [
    "finalpoints_good=ionfinalpoints[np.linalg.norm(ionfinalpoints[:,:2],axis=1) < 7.25]"
   ]
  },
  {
   "cell_type": "code",
   "execution_count": 22,
   "metadata": {
    "collapsed": false,
    "scrolled": true
   },
   "outputs": [
    {
     "name": "stdout",
     "output_type": "stream",
     "text": [
      "Max possible efficiency is 0.9636363636363636\n"
     ]
    }
   ],
   "source": [
    "print('Max possible efficiency is',finalpoints_good.shape[0]/ionfinalpoints.shape[0])"
   ]
  },
  {
   "cell_type": "code",
   "execution_count": 23,
   "metadata": {
    "collapsed": false,
    "scrolled": false
   },
   "outputs": [
    {
     "data": {
      "image/png": "[encoded data removed]",
      "text/plain": [
       "<matplotlib.figure.Figure at 0xe782518>"
      ]
     },
     "metadata": {},
     "output_type": "display_data"
    }
   ],
   "source": [
    "%matplotlib inline\n",
    "plt.figure()\n",
    "theta=np.linspace(0,2*np.pi,100)\n",
    "plt.plot(7.25*np.sin(theta),7.25*np.cos(theta))\n",
    "plt.axes().set_aspect('equal')\n",
    "plt.plot(ionfinalpoints[:,0],ionfinalpoints[:,1],'r*')\n",
    "plt.xlabel(\"x axis on MCP/mm\")\n",
    "plt.ylabel(\"y axis on MCP/mm\")\n",
    "plt.xlim([-8,8])\n",
    "plt.ylim([-8,8])\n",
    "plt.title(\"final position map of 267/275 ions with interaction\")\n",
    "plt.show()"
   ]
  },
  {
   "cell_type": "code",
   "execution_count": 24,
   "metadata": {
    "collapsed": false,
    "scrolled": false
   },
   "outputs": [
    {
     "data": {
      "text/plain": [
       "'\\n%matplotlib notebook\\nnewplot=plt.figure()\\nionplot=newplot.add_subplot(111,projection=\\'3d\\')\\n#mp.plot(MCP[:,0],MCP[:,1],MCP[:,2],label=\\'MCP\\')\\nionplot.plot(startpoints[:,0],startpoints[:,1],startpoints[:,2],\\'.\\')\\n#mp.plot(points[:,0],points[:,1],points[:,2])\\nplt.xlabel(\"X\")\\nplt.ylabel(\"Y\")\\nplt.title(\"Start point, x:94.45 - 94.55, y:102.49 - 102.51, z:55.49 - 55.51 \\n ion distance 5um\")\\nplt.show()\\n'"
      ]
     },
     "execution_count": 24,
     "metadata": {},
     "output_type": "execute_result"
    }
   ],
   "source": [
    "\"\"\"\n",
    "%matplotlib notebook\n",
    "newplot=plt.figure()\n",
    "ionplot=newplot.add_subplot(111,projection='3d')\n",
    "#mp.plot(MCP[:,0],MCP[:,1],MCP[:,2],label='MCP')\n",
    "ionplot.plot(startpoints[:,0],startpoints[:,1],startpoints[:,2],'.')\n",
    "#mp.plot(points[:,0],points[:,1],points[:,2])\n",
    "plt.xlabel(\"X\")\n",
    "plt.ylabel(\"Y\")\n",
    "plt.title(\"Start point, x:94.45 - 94.55, y:102.49 - 102.51, z:55.49 - 55.51 \\n ion distance 5um\")\n",
    "plt.show()\n",
    "\"\"\""
   ]
  },
  {
   "cell_type": "code",
   "execution_count": 25,
   "metadata": {
    "collapsed": false,
    "scrolled": true
   },
   "outputs": [
    {
     "data": {
      "image/png": "[encoded data removed]",
      "text/plain": [
       "<matplotlib.figure.Figure at 0xe4fc2b0>"
      ]
     },
     "metadata": {},
     "output_type": "display_data"
    }
   ],
   "source": [
    "count, bins, ignored = plt.hist(finalpoints_good[:,2], 50)\n",
    "plt.xlabel(\"ions arrival time/us\")\n",
    "plt.ylabel(\"ion number\")\n",
    "plt.title(\"267/275 ions TOF with interaction\")\n",
    "plt.show()"
   ]
  },
  {
   "cell_type": "code",
   "execution_count": null,
   "metadata": {
    "collapsed": true
   },
   "outputs": [],
   "source": []
  }
 ],
 "metadata": {
  "anaconda-cloud": {},
  "kernelspec": {
   "display_name": "Python [conda root]",
   "language": "python",
   "name": "conda-root-py"
  },
  "language_info": {
   "codemirror_mode": {
    "name": "ipython",
    "version": 3
   },
   "file_extension": ".py",
   "mimetype": "text/x-python",
   "name": "python",
   "nbconvert_exporter": "python",
   "pygments_lexer": "ipython3",
   "version": "3.5.2"
  }
 },
 "nbformat": 4,
 "nbformat_minor": 0
}
