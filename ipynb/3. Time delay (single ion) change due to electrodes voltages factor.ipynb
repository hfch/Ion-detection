{
 "cells": [
  {
   "cell_type": "markdown",
   "metadata": {},
   "source": [
    "### Import potentials and coordinates from HDF5 file"
   ]
  },
  {
   "cell_type": "code",
   "execution_count": 21,
   "metadata": {
    "collapsed": false
   },
   "outputs": [],
   "source": [
    "import h5py\n",
    "import numpy as np\n",
    "import pandas as pd\n",
    "from scipy.interpolate import RegularGridInterpolator as rgi\n",
    "import matplotlib.pyplot as plt\n",
    "from mpl_toolkits.mplot3d import axes3d\n",
    "import time"
   ]
  },
  {
   "cell_type": "code",
   "execution_count": 22,
   "metadata": {
    "collapsed": false
   },
   "outputs": [],
   "source": [
    "#Potential field are stored in a HDF5 file\n",
    "f=h5py.File('PA_v4.hdf5','r')"
   ]
  },
  {
   "cell_type": "code",
   "execution_count": 23,
   "metadata": {
    "collapsed": false,
    "scrolled": true
   },
   "outputs": [
    {
     "name": "stdout",
     "output_type": "stream",
     "text": [
      "Coordinates\n",
      "Potential Arrays\n",
      "iselectrode\n"
     ]
    }
   ],
   "source": [
    "for name in f:\n",
    "    print name"
   ]
  },
  {
   "cell_type": "code",
   "execution_count": 24,
   "metadata": {
    "collapsed": false
   },
   "outputs": [],
   "source": [
    "#coordinates x,y,z in unit of mm\n",
    "x=f[\"Coordinates/X\"].value/2.\n",
    "y=f[\"Coordinates/Y\"].value/2.\n",
    "z=f[\"Coordinates/Z\"].value/2."
   ]
  },
  {
   "cell_type": "markdown",
   "metadata": {},
   "source": [
    "### Set electrodes potentials and calculate spatial potential values\n",
    "19 electrodes are set to certain potentials to create electric field to ionize Rydberg atoms"
   ]
  },
  {
   "cell_type": "code",
   "execution_count": 5,
   "metadata": {
    "collapsed": false
   },
   "outputs": [],
   "source": [
    "#set values of 19 electrodes, for ionization field of state n=30\n",
    "#electrode_set_potentials=[187.*1.2,187.*1.2,-1.74,-278.*1.2,-0.114*1.2,-1900.,0.,3.97*1.2,-1.74*1.2,-278.*1.2,187.*1.2,187.*1.2,0.3*1.2,-278.*1.2,0.,0.,0.,0.318*1.2,0.307*1.2];\n",
    "electrode_set_potentials=[195.,195.,-145.,-232.,-0.114,-1900.,0.,4.,0.3,-232.,195.,195.,-145.,-232.,0.,0.,0.,0.318,0.307];"
   ]
  },
  {
   "cell_type": "code",
   "execution_count": 6,
   "metadata": {
    "collapsed": false
   },
   "outputs": [],
   "source": [
    "# generate potential by setting each electrode to its potential and adding up all electrodes' potential\n",
    "potentials=np.zeros((len(x),len(y),len(z)))\n",
    "for i in range(19):\n",
    "    electroden=f[\"Potential Arrays/electrode\"+str(i+1)].value\n",
    "    potentials+=electrode_set_potentials[i]*electroden/10000."
   ]
  },
  {
   "cell_type": "markdown",
   "metadata": {},
   "source": [
    "### Interpolate potential arrays and plot cross sections for comparison"
   ]
  },
  {
   "cell_type": "code",
   "execution_count": 7,
   "metadata": {
    "collapsed": false
   },
   "outputs": [],
   "source": [
    "#generate potential interpolation\n",
    "\n",
    "from scipy.interpolate import RegularGridInterpolator as rgi\n",
    "p_interpolation=rgi((x,y,z),potentials)"
   ]
  },
  {
   "cell_type": "markdown",
   "metadata": {},
   "source": [
    "#### MCP detector plane center"
   ]
  },
  {
   "cell_type": "code",
   "execution_count": 8,
   "metadata": {
    "collapsed": false
   },
   "outputs": [
    {
     "data": {
      "text/plain": [
       "(array([ 126.47080421,  102.5       ,  107.4175193 ]), 1007.3040503174313)"
      ]
     },
     "execution_count": 8,
     "metadata": {},
     "output_type": "execute_result"
    }
   ],
   "source": [
    "phi=-82.*np.pi/180.\n",
    "tmatrix=np.array([[np.cos(phi),0,-np.sin(phi)],\n",
    "           [0,1,0],\n",
    "           [np.sin(phi),0,np.cos(phi)]])\n",
    "\n",
    "#center point of MCP plane\n",
    "center=(tmatrix.dot(np.array([0.,0.,3.]))*2 + [247,205,214])/2\n",
    "#c=(241+6*np.cos(phi) + np.tan(- phi)*(247 + 6*np.sin( - phi)))/2.\n",
    "c=center[2] + np.tan(- phi)* center[0]\n",
    "center, c"
   ]
  },
  {
   "cell_type": "markdown",
   "metadata": {},
   "source": [
    "#### Define functions for single ion calculation"
   ]
  },
  {
   "cell_type": "code",
   "execution_count": 9,
   "metadata": {
    "collapsed": false
   },
   "outputs": [],
   "source": [
    "#single ion's position and velocity iteration functions\n",
    "\n",
    "def R(ri,vi,dt):                  #delta_t in unit of micro-second, displacement in unit of mm, v in unit of mm/us\n",
    "    x_new=ri[0]+vi[0]*dt\n",
    "    y_new=ri[1]+vi[1]*dt\n",
    "    z_new=ri[2]+vi[2]*dt\n",
    "    return np.array([x_new,y_new,z_new])\n",
    "\n",
    "def V(ri,vi,delta_t,dr):\n",
    "    dvx=-100./(1.0364*87.) * (p_interpolation([ri[0]+dr,ri[1],ri[2]])[0]-p_interpolation([ri[0]-dr,ri[1],ri[2]])[0])/(dr*2) #- for positive ions, + for electrons\n",
    "    dvy=-100./(1.0364*87.) * (p_interpolation([ri[0],ri[1]+dr,ri[2]])[0]-p_interpolation([ri[0],ri[1]-dr,ri[2]])[0])/(dr*2)\n",
    "    dvz=-100./(1.0364*87.) * (p_interpolation([ri[0],ri[1],ri[2]+dr])[0]-p_interpolation([ri[0],ri[1],ri[2]-dr])[0])/(dr*2)\n",
    "    vx_new=vi[0]+dvx * dt\n",
    "    vy_new=vi[1]+dvy * dt\n",
    "    vz_new=vi[2]+dvz * dt\n",
    "    return np.array([vx_new,vy_new,vz_new])\n",
    "\n",
    "def VCoul(ra,rb):\n",
    "    #coulombic acceleration of Rb ion at ra, due to repulsion of Rb ion at rb\n",
    "    distance=np.linalg.norm(ra-rb)\n",
    "    coulf=1.595 * 1.e-6 /distance**2\n",
    "    return (ra-rb)*coulf/distance\n",
    "    \n",
    "\n",
    "def cross_ratio(r_n,r_iter,count,dt):\n",
    "    x1=r_n[0]\n",
    "    z1=r_n[2]\n",
    "    x2=r_iter[0]\n",
    "    z2=r_iter[2]\n",
    "    a=np.array([[np.tan(-phi),1.],[(z2-z1)/(x1-x2),1]])\n",
    "    b=np.array([c,(x1*z2-x2*z1)/(x1-x2)])\n",
    "    \n",
    "    r_p= np.linalg.solve(a,b)\n",
    "    ratio=(r_p[0]-r_n[0])/(r_iter[0]-r_n[0])\n",
    "    count += ratio\n",
    "    y_p= r_n[1] +(r_iter[1]-r_n[1])*ratio\n",
    "    t=count*dt\n",
    "    r_new= [np.sign(r_p[1]-center[2]) * np.sqrt((r_p[0]-center[0])**2 + (r_p[1]-center[2])**2),y_p-center[1],t]\n",
    "    return r_new\n",
    "\n",
    "\n",
    "\n",
    "def nstop(r):\n",
    "    xx=r[0]\n",
    "    zz=r[2]\n",
    "    if (zz+np.tan(phi)*xx)< c :\n",
    "        return True\n",
    "    else:\n",
    "        return False"
   ]
  },
  {
   "cell_type": "markdown",
   "metadata": {},
   "source": [
    "**Distance step when calculating gradient has significant fluence on the trajectories**"
   ]
  },
  {
   "cell_type": "code",
   "execution_count": 10,
   "metadata": {
    "collapsed": false,
    "scrolled": true
   },
   "outputs": [],
   "source": [
    "dr=0.5       #dr[mm] is used when calculating gradients\n",
    "dt=0.01     #dt[us]\n",
    "v0=np.array([0,0,0])"
   ]
  },
  {
   "cell_type": "code",
   "execution_count": 11,
   "metadata": {
    "collapsed": false
   },
   "outputs": [],
   "source": [
    "def trajectory(r_init,v_init,dt):\n",
    "    v_iter=np.zeros((1,3))\n",
    "    r_iter=np.zeros((1,3))\n",
    "    r_iter[0]=r_init\n",
    "    v_iter[0]=v_init \n",
    "    count=0              #no appending?\n",
    "    while (r_iter[-1]>[x[1],y[1],z[1]]).all() and (r_iter[-1]<[x[-2],y[-2],z[-2]]).all() and (r_iter[-1][2]-np.tan(phi)*r_iter[-1][0]<=c):\n",
    "        # while loop condition: ion still in effective volume, and not hit the plane\n",
    "        v_iter=np.append(v_iter,[V(r_iter[-1],v_iter[-1],dt,dr)],0)\n",
    "        r_iter=np.append(r_iter,[R(r_iter[-1],v_iter[-1],dt)],0)\n",
    "        count+=1\n",
    "        if count*dt>20:\n",
    "            break\n",
    "        \n",
    "    r=r_iter\n",
    "    v=v_iter\n",
    "    t=len(r_iter)*dt\n",
    "    return [r,v,t]\n",
    "\n",
    "def trajectory2(r_init,v_init,dt):\n",
    "    r_iter=r_init\n",
    "    v_iter=v_init \n",
    "    r_n=r_init\n",
    "    count=0              #no appending?\n",
    "    while (r_iter>[x[1],y[1],z[1]]).all() and (r_iter<[x[-2],y[-2],z[-2]]).all() and (r_iter[2]-np.tan(phi)*r_iter[0]<=c):\n",
    "        # while loop condition: ion still in effective volume, and not hit the plane\n",
    "        r_n=r_iter\n",
    "        v_iter=V(r_iter,v_iter,dt,dr)\n",
    "        r_iter=R(r_iter,v_iter,dt)\n",
    "        count+=1\n",
    "        if count*dt>13:\n",
    "            break\n",
    "        \n",
    "    x1=r_n[0]\n",
    "    z1=r_n[2]\n",
    "    x2=r_iter[0]\n",
    "    z2=r_iter[2]\n",
    "    a=np.array([[np.tan(-phi),1.],[(z2-z1)/(x1-x2),1]])\n",
    "    b=np.array([c,(x1*z2-x2*z1)/(x1-x2)])\n",
    "    \n",
    "    r_p= np.linalg.solve(a,b)\n",
    "    v=v_iter\n",
    "    ratio=(r_iter[0]-r_p[0])/(r_iter[0]-r_n[0])\n",
    "    count += ratio\n",
    "    y_p= r_n[1] +(r_iter[1]-r_n[1])*ratio\n",
    "    t=count*dt\n",
    "    r_new= [np.sign(r_p[1]-center[2]) * np.sqrt((r_p[0]-center[0])**2 + (r_p[1]-center[2])**2),y_p-center[1],t]\n",
    "    \n",
    "    return [r_new,v]\n",
    "\n",
    "def trajectories_two_ions(r_init1,v_init1,r_init2,v_init2,dt):\n",
    "    r_iter1=r_init1\n",
    "    v_iter1=v_init1\n",
    "    r_iter2=r_init2\n",
    "    v_iter2=v_init2\n",
    "    r_n1=r_init1\n",
    "    r_n2=r_init2\n",
    "    count1=0\n",
    "    count2=0\n",
    "    #no appending?\n",
    "    condition1=(r_iter1>[x[1],y[1],z[1]]).all() and (r_iter1<[x[-2],y[-2],z[-2]]).all() and (r_iter1[2]-np.tan(phi)*r_iter1[0]<=c)\n",
    "    condition2=(r_iter2>[x[1],y[1],z[1]]).all() and (r_iter2<[x[-2],y[-2],z[-2]]).all() and (r_iter2[2]-np.tan(phi)*r_iter2[0]<=c)\n",
    "    while condition1 or condition2:\n",
    "        # while loop condition: ion still in effective volume, and not hit the plane\n",
    "        iondistance=np.linalg.norm(r_iter1-r_iter2)\n",
    "        \"\"\"if iondistance<0.01:\n",
    "            dt=0.0001\n",
    "        else:\n",
    "            dt=0.01\"\"\"\n",
    "        if condition1:\n",
    "            r_n1=r_iter1\n",
    "            v_iter1=V(r_iter1,v_iter1,dt,dr) + (condition1 and condition2)*VCoul(r_iter1,r_iter2)*dt\n",
    "            r_iter1=R(r_iter1,v_iter1,dt)\n",
    "            count1+=1\n",
    "        if condition2:\n",
    "            r_n2=r_iter2\n",
    "            v_iter2=V(r_iter2,v_iter2,dt,dr) + (condition1 and condition2)*VCoul(r_iter2,r_n1)*dt\n",
    "            r_iter2=R(r_iter2,v_iter2,dt)\n",
    "            count2+=1*condition2\n",
    "        \n",
    "        if max(count1*dt,count2*dt)>15:\n",
    "            break\n",
    "            \n",
    "        condition1=(r_iter1>[x[1],y[1],z[1]]).all() and (r_iter1<[x[-2],y[-2],z[-2]]).all() and (r_iter1[2]-np.tan(phi)*r_iter1[0]<=c)\n",
    "        condition2=(r_iter2>[x[1],y[1],z[1]]).all() and (r_iter2<[x[-2],y[-2],z[-2]]).all() and (r_iter2[2]-np.tan(phi)*r_iter2[0]<=c)\n",
    "        \n",
    "    #map coordinates into detector plane coordinate\n",
    "    r_new1=cross_ratio(r_n1,r_iter1,count1,dt)\n",
    "    r_new2=cross_ratio(r_n2,r_iter2,count2,dt)\n",
    "    v1=v_iter1\n",
    "    v2=v_iter2\n",
    "    #displacement=np.array(r_new1) - np.array(r_new2)\n",
    "    \n",
    "    return [r_new1,v1,r_new2,v2]"
   ]
  },
  {
   "cell_type": "markdown",
   "metadata": {},
   "source": [
    "#### Finding best starting point"
   ]
  },
  {
   "cell_type": "code",
   "execution_count": 12,
   "metadata": {
    "collapsed": false,
    "scrolled": true
   },
   "outputs": [
    {
     "name": "stdout",
     "output_type": "stream",
     "text": [
      "[2.7964238152028678, -0.11293771290986854, 6.5991370585118476]\n"
     ]
    }
   ],
   "source": [
    "#[r,v,t]=trajectory(r0,v0,dt)\n",
    "r0=np.array([96.9,102.5,66.05])\n",
    "#r0=np.array([97.,102.5,66.05])\n",
    "v0=np.array([0,0,0])\n",
    "t1=time.time()\n",
    "[r,v]=trajectory2(r0,v0,dt)\n",
    "t2=time.time()\n",
    "print r"
   ]
  },
  {
   "cell_type": "markdown",
   "metadata": {},
   "source": [
    "Ion signal time delay change due to factor of voltages"
   ]
  },
  {
   "cell_type": "code",
   "execution_count": 25,
   "metadata": {
    "collapsed": true
   },
   "outputs": [],
   "source": [
    "factor=np.array([0.93,0.97,1.,1.05,0.95,0.87,1.2,0.96])\n",
    "delay=np.array([6.7,6.3,6.,5.8,6.5,7.2,5.15,6.3])"
   ]
  },
  {
   "cell_type": "code",
   "execution_count": 26,
   "metadata": {
    "collapsed": true
   },
   "outputs": [],
   "source": [
    "tdelay=np.zeros(len(factor))"
   ]
  },
  {
   "cell_type": "code",
   "execution_count": 27,
   "metadata": {
    "collapsed": true
   },
   "outputs": [],
   "source": [
    "finalfactor=np.zeros((len(factor),3))\n",
    "v=np.zeros((1,3))\n",
    "r0=np.array([96.9,102.5,66.05])\n",
    "for i in range(len(factor)):\n",
    "    electrode_set_potentials[0] *= factor[i]\n",
    "    electrode_set_potentials[1] *= factor[i]\n",
    "    electrode_set_potentials[2] *= factor[i]\n",
    "    electrode_set_potentials[3] *= factor[i]\n",
    "    electrode_set_potentials[9] *= factor[i]\n",
    "    electrode_set_potentials[10] *= factor[i]\n",
    "    electrode_set_potentials[11] *= factor[i]\n",
    "    electrode_set_potentials[12] *= factor[i]\n",
    "    electrode_set_potentials[13] *= factor[i]\n",
    "    potentials=np.zeros((len(x),len(y),len(z)))\n",
    "    for k in range(19):\n",
    "        electroden=f[\"Potential Arrays/electrode\"+str(k+1)].value\n",
    "        potentials+=electrode_set_potentials[k]*electroden/10000.\n",
    "        \n",
    "    p_interpolation=rgi((x,y,z),potentials)\n",
    "    [finalfactor[i],v]=trajectory2(r0,v0,dt)\n",
    "    electrode_set_potentials=[195.,195.,-145.,-232.,-0.114,-1900.,0.,4.,0.3,-232.,195.,195.,-145.,-232.,0.,0.,0.,0.318,0.307];"
   ]
  },
  {
   "cell_type": "code",
   "execution_count": 28,
   "metadata": {
    "collapsed": false
   },
   "outputs": [
    {
     "data": {
      "text/plain": [
       "array([[ 2.7705127 , -0.11016715,  6.81003771],\n",
       "       [ 2.78456334, -0.11164212,  6.68395676],\n",
       "       [ 2.79642382, -0.11293771,  6.59913706],\n",
       "       [ 2.81297328, -0.11416144,  6.44896527],\n",
       "       [ 2.77760525, -0.1114901 ,  6.7580752 ],\n",
       "       [ 2.74522948, -0.10863147,  7.03305634],\n",
       "       [ 2.8545967 , -0.11664789,  6.04227777],\n",
       "       [ 2.78205365, -0.11110398,  6.71112306]])"
      ]
     },
     "execution_count": 28,
     "metadata": {},
     "output_type": "execute_result"
    }
   ],
   "source": [
    "finalfactor"
   ]
  },
  {
   "cell_type": "code",
   "execution_count": 29,
   "metadata": {
    "collapsed": false,
    "scrolled": true
   },
   "outputs": [
    {
     "data": {
      "image/png": "[encoded data removed]",
      "text/plain": [
       "<matplotlib.figure.Figure at 0xc7cc390>"
      ]
     },
     "metadata": {},
     "output_type": "display_data"
    }
   ],
   "source": [
    "%matplotlib inline\n",
    "plt.figure()\n",
    "plt.plot(factor,finalfactor[:,2],'ro',label='Simulation')\n",
    "plt.plot(factor,delay ,'go',label='Experiment')\n",
    "plt.legend(loc='best')\n",
    "plt.title(\"ion signal delay due to factors of electrodes voltage\")\n",
    "plt.show()"
   ]
  },
  {
   "cell_type": "code",
   "execution_count": 18,
   "metadata": {
    "collapsed": false
   },
   "outputs": [
    {
     "data": {
      "text/plain": [
       "array([ 0.93,  0.97,  1.  ,  1.05,  0.95,  0.87,  1.2 ,  0.96])"
      ]
     },
     "execution_count": 18,
     "metadata": {},
     "output_type": "execute_result"
    }
   ],
   "source": [
    "delay_simulation=finalfactor[:,2]\n",
    "factor"
   ]
  },
  {
   "cell_type": "code",
   "execution_count": 20,
   "metadata": {
    "collapsed": false
   },
   "outputs": [
    {
     "data": {
      "text/plain": [
       "[<matplotlib.lines.Line2D at 0xc4a64a8>]"
      ]
     },
     "execution_count": 20,
     "metadata": {},
     "output_type": "execute_result"
    },
    {
     "data": {
      "image/png": "[encoded data removed]",
      "text/plain": [
       "<matplotlib.figure.Figure at 0xc4a60b8>"
      ]
     },
     "metadata": {},
     "output_type": "display_data"
    }
   ],
   "source": [
    "plt.plot(1/np.sqrt(factor),delay_simulation,'o')\n",
    "plt.plot(1/np.sqrt(factor),delay + 0.4,'r*')"
   ]
  },
  {
   "cell_type": "code",
   "execution_count": 31,
   "metadata": {
    "collapsed": false
   },
   "outputs": [
    {
     "data": {
      "text/plain": [
       "0.99966497564192403"
      ]
     },
     "execution_count": 31,
     "metadata": {},
     "output_type": "execute_result"
    }
   ],
   "source": [
    "from scipy import stats\n",
    "slope, intercept, r_value, p_value, std_err = stats.linregress(1/np.sqrt(factor),delay_simulation)\n",
    "r_value"
   ]
  },
  {
   "cell_type": "code",
   "execution_count": null,
   "metadata": {
    "collapsed": true
   },
   "outputs": [],
   "source": []
  }
 ],
 "metadata": {
  "anaconda-cloud": {},
  "kernelspec": {
   "display_name": "Python [conda root]",
   "language": "python",
   "name": "conda-root-py"
  },
  "language_info": {
   "codemirror_mode": {
    "name": "ipython",
    "version": 3
   },
   "file_extension": ".py",
   "mimetype": "text/x-python",
   "name": "python",
   "nbconvert_exporter": "python",
   "pygments_lexer": "ipython3",
   "version": "3.5.2"
  }
 },
 "nbformat": 4,
 "nbformat_minor": 0
}
